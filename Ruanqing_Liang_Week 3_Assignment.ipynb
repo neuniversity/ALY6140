{
 "cells": [
  {
   "cell_type": "markdown",
   "metadata": {},
   "source": [
    "# Assignment\n",
    "* Download the \"Assignment.ipynb\" notebook \n",
    "* Fill in the code in the cells marked with #GRADED#\n",
    "* Code cells outside of #GRADED# will not be considered for grading. \n",
    "  * Feel free to write outside of it for debugging\n",
    "* Submit the updated notebook\n",
    "  * Make sure to save your changes before submitting it"
   ]
  },
  {
   "cell_type": "code",
   "execution_count": 2,
   "metadata": {},
   "outputs": [],
   "source": [
    "#Import necessary libraries\n",
    "import pandas as pd\n",
    "import numpy as np"
   ]
  },
  {
   "cell_type": "code",
   "execution_count": 215,
   "metadata": {},
   "outputs": [
    {
     "name": "stdout",
     "output_type": "stream",
     "text": [
      "(a)the shape:\n",
      "(3, 5)\n",
      "(a)number of dimensions: \n",
      "2\n",
      "(a) type:\n",
      "<class 'numpy.ndarray'>\n",
      "(b)  the sum of elements in arr:\n",
      "105\n",
      "(c) the mean of elements in arr:\n",
      "7.0\n",
      "(d) the same shape as arr but filled with zeros:\n",
      "[[0 0 0 0 0]\n",
      " [0 0 0 0 0]\n",
      " [0 0 0 0 0]]\n",
      "(e) the same shape as arr but filled with ones:\n",
      "[[1 1 1 1 1]\n",
      " [1 1 1 1 1]\n",
      " [1 1 1 1 1]]\n",
      "(f) the same shape as arr but where all elements are squared values:\n",
      "[[  0   1   4   9  16]\n",
      " [ 25  36  49  64  81]\n",
      " [100 121 144 169 196]]\n",
      "(g) 3*3 resulting from multiplication of arr with transpose:\n",
      "[[ 30  80 130]\n",
      " [ 80 255 430]\n",
      " [130 430 730]]\n"
     ]
    }
   ],
   "source": [
    "### GRADED\n",
    "# (a) Determine the shape, number of dimensions and type of \n",
    "# elements in the numpy array arr\n",
    "# (b) Determine the sum of elements in arr\n",
    "# (c) Determine the mean of elements in arr\n",
    "# (d) Create an array of the same shape as arr but filled with zeros\n",
    "# (e) Create an array of the same shape as arr but filled with ones\n",
    "# (f) Create an array of the same shape as arr but where all elements are squared values\n",
    "# (g) Create an array result of shape 3*3 resulting from multiplication of arr with transpose(arr). Hint: use np.dot\n",
    "arr = np.arange(15).reshape(3, 5)\n",
    "\n",
    "print(\"(a)the shape:\")\n",
    "print(arr.shape)\n",
    "\n",
    "print(\"(a)number of dimensions: \")\n",
    "print(arr.ndim)\n",
    "\n",
    "print(\"(a) type:\")\n",
    "print(type(arr))\n",
    "\n",
    "print(\"(b)  the sum of elements in arr:\")\n",
    "print(arr.sum())\n",
    "\n",
    "print(\"(c) the mean of elements in arr:\")\n",
    "print(arr.mean())\n",
    "\n",
    "print(\"(d) the same shape as arr but filled with zeros:\")\n",
    "arr2 = np.zeros_like(arr)\n",
    "print(arr2)\n",
    "\n",
    "print(\"(e) the same shape as arr but filled with ones:\")\n",
    "arr1 = np.ones_like(arr)\n",
    "print(arr1)\n",
    "\n",
    "print(\"(f) the same shape as arr but where all elements are squared values:\")\n",
    "print(arr**2)\n",
    "\n",
    "print(\"(g) 3*3 resulting from multiplication of arr with transpose:\")\n",
    "arrtt = arr.T     \n",
    "arr0 = np.dot(arr, arrt)   \n",
    "print(arr0)"
   ]
  },
  {
   "cell_type": "code",
   "execution_count": 212,
   "metadata": {},
   "outputs": [
    {
     "name": "stdout",
     "output_type": "stream",
     "text": [
      "(a)the shape of the dataframe:\n",
      "(150, 5)\n",
      "(b) all the columns:\n",
      "['sepal_length', 'sepal_width', 'petal_length', 'petal_width', 'species']\n",
      "(c)the 3rd element: \n",
      "sepal_length       4.7\n",
      "sepal_width        3.2\n",
      "petal_length       1.3\n",
      "petal_width        0.2\n",
      "species         setosa\n",
      "Name: 2, dtype: object\n",
      "(d) the average of 'petal_width' where species is 'virginica':\n",
      "2.026\n",
      "(e)the maximum of 'sepal_width' where species is 'setosa':\n",
      "4.4\n",
      "(f) the average value of sepal_length:\n",
      "5.843333333333335\n",
      "(g) the maximum value of sepal_width:\n",
      "4.4\n",
      "(h)the minimum value of petal_width\n",
      "0.1\n"
     ]
    }
   ],
   "source": [
    "### GRADED\n",
    "# The following piece of code creates a DataFrame \n",
    "# (a) Determine the shape of the dataframe\n",
    "# (b) Print out all the columns of the dataframe\n",
    "# (c) Print the 3rd element of the dataframe\n",
    "# (d) Find the average of 'petal_width' where species is 'virginica'\n",
    "# (e) Find the maximum of 'sepal_width' where species is 'setosa'\n",
    "# (f): What is the average value of sepal_length\n",
    "# (g): What is the maximum value of sepal_width\n",
    "# (h): What is the minimum value of petal_width\n",
    "import pandas as pd\n",
    "df = pd.read_csv('https://raw.githubusercontent.com/mwaskom/seaborn-data/master/iris.csv')\n",
    "df.head(10) #prints the first 10 rows\n",
    "\n",
    "\n",
    "print(\"(a)the shape of the dataframe:\")\n",
    "print(df.shape)\n",
    "\n",
    "print(\"(b) all the columns:\")\n",
    "all_column = list(df.head(0))\n",
    "print(all_column)\n",
    "\n",
    "print(\"(c)the 3rd element: \")\n",
    "print(df.iloc[2])\n",
    "\n",
    "print(\"(d) the average of 'petal_width' where species is 'virginica':\")\n",
    "print(df.groupby('species').mean().iloc[2,3])\n",
    "\n",
    "\n",
    "print(\"(e)the maximum of 'sepal_width' where species is 'setosa':\")\n",
    "print(df.groupby('species').max().iloc[0,1])\n",
    "\n",
    "\n",
    "print(\"(f) the average value of sepal_length:\")\n",
    "print(df.mean()['sepal_length'])\n",
    "\n",
    "\n",
    "print(\"(g) the maximum value of sepal_width:\")\n",
    "print(max_series['sepal_width'])\n",
    "\n",
    "print(\"(h)the minimum value of petal_width\")\n",
    "print(df.min()['petal_width'])\n",
    "      "
   ]
  },
  {
   "cell_type": "markdown",
   "metadata": {
    "collapsed": true
   },
   "source": [
    "### GRADED: Getting started on the capstone project\n",
    "We will start working on our capstone project this week. For this week, the task consists of\n",
    "Finding a dataset of interest.\n",
    "    -You can use the links in the supplementary materials to help you find the dataset\n",
    "    -This dataset should be publicly accessible and available for download\n",
    "    -Should be of interest to the class\n",
    "    -The goal is to be askign and answering important questions about the data\n",
    "You can start with the following datasets or find your own\n",
    "### Open datasets\n",
    "          \n",
    "* Resources for open data\n",
    "  * https://data.boston.gov/\n",
    "  * https://www.data.gov/\n",
    "  * https://www.bls.gov/data/\n",
    "  * http://www.fao.org/statistics/databases/en/\n",
    "  * http://ec.europa.eu/eurostat/web/main\n",
    "  * https://github.com/awesomedata/awesome-public-datasets\n",
    "  * https://www.kdnuggets.com/2016/05/top-10-datasets-github.html\n",
    "  * https://www.quora.com/Where-can-I-find-large-datasets-open-to-the-public\n",
    "    \n",
    "### Questions\n",
    "\n",
    "* Q: Shortlist three datasets of interest\n",
    "* Q: For each dataset suggest describe the data (a few sentences) and questions that can be answered using that data (a few sentences)\n"
   ]
  },
  {
   "cell_type": "code",
   "execution_count": null,
   "metadata": {
    "collapsed": true
   },
   "outputs": [],
   "source": []
  }
 ],
 "metadata": {
  "kernelspec": {
   "display_name": "Python 3",
   "language": "python",
   "name": "python3"
  },
  "language_info": {
   "codemirror_mode": {
    "name": "ipython",
    "version": 3
   },
   "file_extension": ".py",
   "mimetype": "text/x-python",
   "name": "python",
   "nbconvert_exporter": "python",
   "pygments_lexer": "ipython3",
   "version": "3.7.0"
  }
 },
 "nbformat": 4,
 "nbformat_minor": 2
}
