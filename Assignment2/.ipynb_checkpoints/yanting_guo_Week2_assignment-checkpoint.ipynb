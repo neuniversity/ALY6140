{
 "cells": [
  {
   "cell_type": "markdown",
   "metadata": {},
   "source": [
    "# Assignment2\n"
   ]
  },
  {
   "cell_type": "code",
   "execution_count": 7,
   "metadata": {},
   "outputs": [],
   "source": [
    "#Import necessary libraries\n",
    "import pandas as pd\n",
    "import cv2\n",
    "import pyabf\n",
    "import matplotlib.pyplot as plt"
   ]
  },
  {
   "cell_type": "code",
   "execution_count": 2,
   "metadata": {},
   "outputs": [],
   "source": [
    "# read files\n",
    "csv_df = pd.read_csv(\"Nuclei.csv\")\n",
    "excel_df = pd.read_excel(\"Financial Sample.xlsx\")\n",
    "image = cv2.imread(\"Nuclei_Msk.jpg\")\n",
    "abf = pyabf.ABF(\"16o03002.abf\")"
   ]
  },
  {
   "cell_type": "markdown",
   "metadata": {},
   "source": [
    "### Process CSV file\n",
    "This csv file seems contain some fun numbers about Nuclei. I don't quit understand about what it's every column about. So I output some basic statics number about this csv file."
   ]
  },
  {
   "cell_type": "code",
   "execution_count": 4,
   "metadata": {},
   "outputs": [
    {
     "data": {
      "text/html": [
       "<div>\n",
       "<style scoped>\n",
       "    .dataframe tbody tr th:only-of-type {\n",
       "        vertical-align: middle;\n",
       "    }\n",
       "\n",
       "    .dataframe tbody tr th {\n",
       "        vertical-align: top;\n",
       "    }\n",
       "\n",
       "    .dataframe thead th {\n",
       "        text-align: right;\n",
       "    }\n",
       "</style>\n",
       "<table border=\"1\" class=\"dataframe\">\n",
       "  <thead>\n",
       "    <tr style=\"text-align: right;\">\n",
       "      <th></th>\n",
       "      <th>ImageNumber</th>\n",
       "      <th>ObjectNumber</th>\n",
       "      <th>Intensity_IntegratedIntensityEdge_DAPI</th>\n",
       "      <th>Intensity_IntegratedIntensityEdge_PI</th>\n",
       "      <th>Intensity_IntegratedIntensity_DAPI</th>\n",
       "      <th>Intensity_IntegratedIntensity_PI</th>\n",
       "      <th>Intensity_LowerQuartileIntensity_DAPI</th>\n",
       "      <th>Intensity_LowerQuartileIntensity_PI</th>\n",
       "      <th>Intensity_MADIntensity_DAPI</th>\n",
       "      <th>Intensity_MADIntensity_PI</th>\n",
       "      <th>...</th>\n",
       "      <th>Intensity_MinIntensityEdge_PI</th>\n",
       "      <th>Intensity_MinIntensity_DAPI</th>\n",
       "      <th>Intensity_MinIntensity_PI</th>\n",
       "      <th>Intensity_StdIntensityEdge_DAPI</th>\n",
       "      <th>Intensity_StdIntensityEdge_PI</th>\n",
       "      <th>Intensity_StdIntensity_DAPI</th>\n",
       "      <th>Intensity_StdIntensity_PI</th>\n",
       "      <th>Intensity_UpperQuartileIntensity_DAPI</th>\n",
       "      <th>Intensity_UpperQuartileIntensity_PI</th>\n",
       "      <th>Number_Object_Number</th>\n",
       "    </tr>\n",
       "  </thead>\n",
       "  <tbody>\n",
       "    <tr>\n",
       "      <th>count</th>\n",
       "      <td>1244.0</td>\n",
       "      <td>1244.000000</td>\n",
       "      <td>1244.000000</td>\n",
       "      <td>1244.000000</td>\n",
       "      <td>1244.000000</td>\n",
       "      <td>1244.000000</td>\n",
       "      <td>1244.000000</td>\n",
       "      <td>1244.000000</td>\n",
       "      <td>1244.000000</td>\n",
       "      <td>1244.000000</td>\n",
       "      <td>...</td>\n",
       "      <td>1244.000000</td>\n",
       "      <td>1244.000000</td>\n",
       "      <td>1244.000000</td>\n",
       "      <td>1244.000000</td>\n",
       "      <td>1244.000000</td>\n",
       "      <td>1244.000000</td>\n",
       "      <td>1244.000000</td>\n",
       "      <td>1244.000000</td>\n",
       "      <td>1244.000000</td>\n",
       "      <td>1244.000000</td>\n",
       "    </tr>\n",
       "    <tr>\n",
       "      <th>mean</th>\n",
       "      <td>1.0</td>\n",
       "      <td>622.500000</td>\n",
       "      <td>5.010761</td>\n",
       "      <td>4.279991</td>\n",
       "      <td>59.911794</td>\n",
       "      <td>26.723821</td>\n",
       "      <td>0.055663</td>\n",
       "      <td>0.035176</td>\n",
       "      <td>0.031253</td>\n",
       "      <td>0.003959</td>\n",
       "      <td>...</td>\n",
       "      <td>0.029483</td>\n",
       "      <td>0.033260</td>\n",
       "      <td>0.029339</td>\n",
       "      <td>0.009720</td>\n",
       "      <td>0.005882</td>\n",
       "      <td>0.040456</td>\n",
       "      <td>0.007784</td>\n",
       "      <td>0.123382</td>\n",
       "      <td>0.045752</td>\n",
       "      <td>622.500000</td>\n",
       "    </tr>\n",
       "    <tr>\n",
       "      <th>std</th>\n",
       "      <td>0.0</td>\n",
       "      <td>359.256176</td>\n",
       "      <td>1.473586</td>\n",
       "      <td>3.495266</td>\n",
       "      <td>31.131561</td>\n",
       "      <td>38.306838</td>\n",
       "      <td>0.005882</td>\n",
       "      <td>0.025805</td>\n",
       "      <td>0.012597</td>\n",
       "      <td>0.019958</td>\n",
       "      <td>...</td>\n",
       "      <td>0.010084</td>\n",
       "      <td>0.003020</td>\n",
       "      <td>0.010093</td>\n",
       "      <td>0.012599</td>\n",
       "      <td>0.022196</td>\n",
       "      <td>0.022732</td>\n",
       "      <td>0.033475</td>\n",
       "      <td>0.033349</td>\n",
       "      <td>0.072223</td>\n",
       "      <td>359.256176</td>\n",
       "    </tr>\n",
       "    <tr>\n",
       "      <th>min</th>\n",
       "      <td>1.0</td>\n",
       "      <td>1.000000</td>\n",
       "      <td>1.969421</td>\n",
       "      <td>1.188937</td>\n",
       "      <td>4.785382</td>\n",
       "      <td>2.322469</td>\n",
       "      <td>0.037179</td>\n",
       "      <td>0.028054</td>\n",
       "      <td>0.006256</td>\n",
       "      <td>0.000595</td>\n",
       "      <td>...</td>\n",
       "      <td>0.023468</td>\n",
       "      <td>0.024338</td>\n",
       "      <td>0.023468</td>\n",
       "      <td>0.002689</td>\n",
       "      <td>0.000946</td>\n",
       "      <td>0.009035</td>\n",
       "      <td>0.000976</td>\n",
       "      <td>0.053887</td>\n",
       "      <td>0.029587</td>\n",
       "      <td>1.000000</td>\n",
       "    </tr>\n",
       "    <tr>\n",
       "      <th>25%</th>\n",
       "      <td>1.0</td>\n",
       "      <td>311.750000</td>\n",
       "      <td>4.253437</td>\n",
       "      <td>3.339506</td>\n",
       "      <td>41.722286</td>\n",
       "      <td>17.132189</td>\n",
       "      <td>0.051933</td>\n",
       "      <td>0.031629</td>\n",
       "      <td>0.022107</td>\n",
       "      <td>0.001061</td>\n",
       "      <td>...</td>\n",
       "      <td>0.027756</td>\n",
       "      <td>0.031140</td>\n",
       "      <td>0.027634</td>\n",
       "      <td>0.004655</td>\n",
       "      <td>0.001633</td>\n",
       "      <td>0.027635</td>\n",
       "      <td>0.001576</td>\n",
       "      <td>0.101867</td>\n",
       "      <td>0.033959</td>\n",
       "      <td>311.750000</td>\n",
       "    </tr>\n",
       "    <tr>\n",
       "      <th>50%</th>\n",
       "      <td>1.0</td>\n",
       "      <td>622.500000</td>\n",
       "      <td>4.706317</td>\n",
       "      <td>3.717296</td>\n",
       "      <td>47.698375</td>\n",
       "      <td>20.005997</td>\n",
       "      <td>0.055173</td>\n",
       "      <td>0.032532</td>\n",
       "      <td>0.028622</td>\n",
       "      <td>0.001225</td>\n",
       "      <td>...</td>\n",
       "      <td>0.028809</td>\n",
       "      <td>0.033326</td>\n",
       "      <td>0.028702</td>\n",
       "      <td>0.005415</td>\n",
       "      <td>0.001920</td>\n",
       "      <td>0.034145</td>\n",
       "      <td>0.001815</td>\n",
       "      <td>0.115518</td>\n",
       "      <td>0.035025</td>\n",
       "      <td>622.500000</td>\n",
       "    </tr>\n",
       "    <tr>\n",
       "      <th>75%</th>\n",
       "      <td>1.0</td>\n",
       "      <td>933.250000</td>\n",
       "      <td>5.282853</td>\n",
       "      <td>4.163428</td>\n",
       "      <td>77.833661</td>\n",
       "      <td>25.382410</td>\n",
       "      <td>0.058977</td>\n",
       "      <td>0.033509</td>\n",
       "      <td>0.037791</td>\n",
       "      <td>0.001459</td>\n",
       "      <td>...</td>\n",
       "      <td>0.029835</td>\n",
       "      <td>0.035233</td>\n",
       "      <td>0.029664</td>\n",
       "      <td>0.006995</td>\n",
       "      <td>0.002387</td>\n",
       "      <td>0.044745</td>\n",
       "      <td>0.002195</td>\n",
       "      <td>0.136931</td>\n",
       "      <td>0.036316</td>\n",
       "      <td>933.250000</td>\n",
       "    </tr>\n",
       "    <tr>\n",
       "      <th>max</th>\n",
       "      <td>1.0</td>\n",
       "      <td>1244.000000</td>\n",
       "      <td>19.793484</td>\n",
       "      <td>62.221607</td>\n",
       "      <td>302.683742</td>\n",
       "      <td>705.432120</td>\n",
       "      <td>0.078969</td>\n",
       "      <td>0.483635</td>\n",
       "      <td>0.083909</td>\n",
       "      <td>0.330999</td>\n",
       "      <td>...</td>\n",
       "      <td>0.257984</td>\n",
       "      <td>0.042176</td>\n",
       "      <td>0.257984</td>\n",
       "      <td>0.154181</td>\n",
       "      <td>0.282303</td>\n",
       "      <td>0.187355</td>\n",
       "      <td>0.352611</td>\n",
       "      <td>0.319646</td>\n",
       "      <td>0.999954</td>\n",
       "      <td>1244.000000</td>\n",
       "    </tr>\n",
       "  </tbody>\n",
       "</table>\n",
       "<p>8 rows × 33 columns</p>\n",
       "</div>"
      ],
      "text/plain": [
       "       ImageNumber  ObjectNumber  Intensity_IntegratedIntensityEdge_DAPI  \\\n",
       "count       1244.0   1244.000000                             1244.000000   \n",
       "mean           1.0    622.500000                                5.010761   \n",
       "std            0.0    359.256176                                1.473586   \n",
       "min            1.0      1.000000                                1.969421   \n",
       "25%            1.0    311.750000                                4.253437   \n",
       "50%            1.0    622.500000                                4.706317   \n",
       "75%            1.0    933.250000                                5.282853   \n",
       "max            1.0   1244.000000                               19.793484   \n",
       "\n",
       "       Intensity_IntegratedIntensityEdge_PI  \\\n",
       "count                           1244.000000   \n",
       "mean                               4.279991   \n",
       "std                                3.495266   \n",
       "min                                1.188937   \n",
       "25%                                3.339506   \n",
       "50%                                3.717296   \n",
       "75%                                4.163428   \n",
       "max                               62.221607   \n",
       "\n",
       "       Intensity_IntegratedIntensity_DAPI  Intensity_IntegratedIntensity_PI  \\\n",
       "count                         1244.000000                       1244.000000   \n",
       "mean                            59.911794                         26.723821   \n",
       "std                             31.131561                         38.306838   \n",
       "min                              4.785382                          2.322469   \n",
       "25%                             41.722286                         17.132189   \n",
       "50%                             47.698375                         20.005997   \n",
       "75%                             77.833661                         25.382410   \n",
       "max                            302.683742                        705.432120   \n",
       "\n",
       "       Intensity_LowerQuartileIntensity_DAPI  \\\n",
       "count                            1244.000000   \n",
       "mean                                0.055663   \n",
       "std                                 0.005882   \n",
       "min                                 0.037179   \n",
       "25%                                 0.051933   \n",
       "50%                                 0.055173   \n",
       "75%                                 0.058977   \n",
       "max                                 0.078969   \n",
       "\n",
       "       Intensity_LowerQuartileIntensity_PI  Intensity_MADIntensity_DAPI  \\\n",
       "count                          1244.000000                  1244.000000   \n",
       "mean                              0.035176                     0.031253   \n",
       "std                               0.025805                     0.012597   \n",
       "min                               0.028054                     0.006256   \n",
       "25%                               0.031629                     0.022107   \n",
       "50%                               0.032532                     0.028622   \n",
       "75%                               0.033509                     0.037791   \n",
       "max                               0.483635                     0.083909   \n",
       "\n",
       "       Intensity_MADIntensity_PI          ...           \\\n",
       "count                1244.000000          ...            \n",
       "mean                    0.003959          ...            \n",
       "std                     0.019958          ...            \n",
       "min                     0.000595          ...            \n",
       "25%                     0.001061          ...            \n",
       "50%                     0.001225          ...            \n",
       "75%                     0.001459          ...            \n",
       "max                     0.330999          ...            \n",
       "\n",
       "       Intensity_MinIntensityEdge_PI  Intensity_MinIntensity_DAPI  \\\n",
       "count                    1244.000000                  1244.000000   \n",
       "mean                        0.029483                     0.033260   \n",
       "std                         0.010084                     0.003020   \n",
       "min                         0.023468                     0.024338   \n",
       "25%                         0.027756                     0.031140   \n",
       "50%                         0.028809                     0.033326   \n",
       "75%                         0.029835                     0.035233   \n",
       "max                         0.257984                     0.042176   \n",
       "\n",
       "       Intensity_MinIntensity_PI  Intensity_StdIntensityEdge_DAPI  \\\n",
       "count                1244.000000                      1244.000000   \n",
       "mean                    0.029339                         0.009720   \n",
       "std                     0.010093                         0.012599   \n",
       "min                     0.023468                         0.002689   \n",
       "25%                     0.027634                         0.004655   \n",
       "50%                     0.028702                         0.005415   \n",
       "75%                     0.029664                         0.006995   \n",
       "max                     0.257984                         0.154181   \n",
       "\n",
       "       Intensity_StdIntensityEdge_PI  Intensity_StdIntensity_DAPI  \\\n",
       "count                    1244.000000                  1244.000000   \n",
       "mean                        0.005882                     0.040456   \n",
       "std                         0.022196                     0.022732   \n",
       "min                         0.000946                     0.009035   \n",
       "25%                         0.001633                     0.027635   \n",
       "50%                         0.001920                     0.034145   \n",
       "75%                         0.002387                     0.044745   \n",
       "max                         0.282303                     0.187355   \n",
       "\n",
       "       Intensity_StdIntensity_PI  Intensity_UpperQuartileIntensity_DAPI  \\\n",
       "count                1244.000000                            1244.000000   \n",
       "mean                    0.007784                               0.123382   \n",
       "std                     0.033475                               0.033349   \n",
       "min                     0.000976                               0.053887   \n",
       "25%                     0.001576                               0.101867   \n",
       "50%                     0.001815                               0.115518   \n",
       "75%                     0.002195                               0.136931   \n",
       "max                     0.352611                               0.319646   \n",
       "\n",
       "       Intensity_UpperQuartileIntensity_PI  Number_Object_Number  \n",
       "count                          1244.000000           1244.000000  \n",
       "mean                              0.045752            622.500000  \n",
       "std                               0.072223            359.256176  \n",
       "min                               0.029587              1.000000  \n",
       "25%                               0.033959            311.750000  \n",
       "50%                               0.035025            622.500000  \n",
       "75%                               0.036316            933.250000  \n",
       "max                               0.999954           1244.000000  \n",
       "\n",
       "[8 rows x 33 columns]"
      ]
     },
     "execution_count": 4,
     "metadata": {},
     "output_type": "execute_result"
    }
   ],
   "source": [
    "def AnalyzeCSV(csv_df):\n",
    "    return csv_df.describe()\n",
    "\n",
    "AnalyzeCSV(csv_df)"
   ]
  },
  {
   "cell_type": "markdown",
   "metadata": {},
   "source": [
    "### Process Excel File\n",
    "BarPlot is defined to accept a string which is the name of a column, and it will plot a vertical bar about the mean of the input column grouped by contries. It support any numberic columns in this excel file. It is easy to extend to other column combinations."
   ]
  },
  {
   "cell_type": "code",
   "execution_count": 65,
   "metadata": {},
   "outputs": [],
   "source": [
    "def BarPlot(column):\n",
    "    excel_df.groupby(['Country'])[column].mean().plot.bar()"
   ]
  },
  {
   "cell_type": "code",
   "execution_count": 63,
   "metadata": {
    "scrolled": true
   },
   "outputs": [
    {
     "data": {
      "image/png": "[encoded data removed]",
      "text/plain": [
       "<Figure size 432x288 with 1 Axes>"
      ]
     },
     "metadata": {
      "needs_background": "light"
     },
     "output_type": "display_data"
    }
   ],
   "source": [
    "BarPlot('Gross Sales')"
   ]
  },
  {
   "cell_type": "code",
   "execution_count": 64,
   "metadata": {},
   "outputs": [
    {
     "data": {
      "image/png": "[encoded data removed]",
      "text/plain": [
       "<Figure size 432x288 with 1 Axes>"
      ]
     },
     "metadata": {
      "needs_background": "light"
     },
     "output_type": "display_data"
    }
   ],
   "source": [
    "BarPlot('Profit')"
   ]
  },
  {
   "cell_type": "code",
   "execution_count": 67,
   "metadata": {},
   "outputs": [
    {
     "data": {
      "image/png": "[encoded data removed]",
      "text/plain": [
       "<Figure size 432x288 with 1 Axes>"
      ]
     },
     "metadata": {
      "needs_background": "light"
     },
     "output_type": "display_data"
    }
   ],
   "source": [
    "BarPlot('Sale Price')"
   ]
  },
  {
   "cell_type": "code",
   "execution_count": 69,
   "metadata": {},
   "outputs": [
    {
     "data": {
      "image/png": "[encoded data removed]",
      "text/plain": [
       "<Figure size 432x288 with 1 Axes>"
      ]
     },
     "metadata": {
      "needs_background": "light"
     },
     "output_type": "display_data"
    }
   ],
   "source": [
    "BarPlot('Units Sold')"
   ]
  },
  {
   "cell_type": "markdown",
   "metadata": {},
   "source": [
    "### Process Image\n",
    "This method accepts an image and convert it to Grayscale. It will show you an preview after converting."
   ]
  },
  {
   "cell_type": "code",
   "execution_count": 3,
   "metadata": {},
   "outputs": [],
   "source": [
    "def GrayScaleImage(image):\n",
    "    return cv2.cvtColor(image, cv2.COLOR_BGR2GRAY)"
   ]
  },
  {
   "cell_type": "code",
   "execution_count": 12,
   "metadata": {},
   "outputs": [],
   "source": [
    "gray_image = GrayScaleImage(image);\n",
    "cv2.imwrite('gray_image.png',gray_image)\n",
    "cv2.imshow('gray_image',gray_image) \n",
    "cv2.waitKey(0) \n",
    "cv2.destroyAllWindows()"
   ]
  },
  {
   "cell_type": "markdown",
   "metadata": {},
   "source": [
    "This method resizes a image too 800 * 800"
   ]
  },
  {
   "cell_type": "code",
   "execution_count": 22,
   "metadata": {},
   "outputs": [],
   "source": [
    "def ResizeImage(pic):\n",
    "    return cv2.resize(pic, (800, 800))"
   ]
  },
  {
   "cell_type": "code",
   "execution_count": 23,
   "metadata": {},
   "outputs": [],
   "source": [
    "resized_image = ResizeImage(image)\n",
    "cv2.imwrite('resized_image.png',resized_image)\n",
    "cv2.imshow('resized_image',resized_image) \n",
    "cv2.waitKey(0) \n",
    "cv2.destroyAllWindows()"
   ]
  },
  {
   "cell_type": "markdown",
   "metadata": {},
   "source": [
    "### Process ABF file\n",
    "This method accepts an abf file and plot it. I'm not quit farmiliar with this file format. It seems like it's a kind of Electrophysiological data. I found a open-source api to read and plot the abf file. It's called pyABF and it's used here to read and plot the graph."
   ]
  },
  {
   "cell_type": "code",
   "execution_count": 28,
   "metadata": {},
   "outputs": [],
   "source": [
    "def PlotSweepData(abf):\n",
    "    abf.setSweep(0)\n",
    "    plt.figure(figsize=(10, 5))\n",
    "    plt.plot(abf.sweepX, abf.sweepY, lw=.9)\n",
    "    plt.show()"
   ]
  },
  {
   "cell_type": "code",
   "execution_count": 29,
   "metadata": {},
   "outputs": [
    {
     "data": {
      "image/png": "[encoded data removed]",
      "text/plain": [
       "<Figure size 720x360 with 1 Axes>"
      ]
     },
     "metadata": {
      "needs_background": "light"
     },
     "output_type": "display_data"
    }
   ],
   "source": [
    "PlotSweepData(abf)"
   ]
  }
 ],
 "metadata": {
  "kernelspec": {
   "display_name": "Python 3",
   "language": "python",
   "name": "python3"
  },
  "language_info": {
   "codemirror_mode": {
    "name": "ipython",
    "version": 3
   },
   "file_extension": ".py",
   "mimetype": "text/x-python",
   "name": "python",
   "nbconvert_exporter": "python",
   "pygments_lexer": "ipython3",
   "version": "3.7.1"
  }
 },
 "nbformat": 4,
 "nbformat_minor": 2
}
