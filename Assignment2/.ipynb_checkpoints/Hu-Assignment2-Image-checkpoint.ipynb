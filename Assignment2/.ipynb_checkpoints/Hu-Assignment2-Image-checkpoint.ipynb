{
 "cells": [
  {
   "cell_type": "markdown",
   "metadata": {},
   "source": [
    "# Import Image, resize and change the color"
   ]
  },
  {
   "cell_type": "code",
   "execution_count": 1,
   "metadata": {},
   "outputs": [
    {
     "name": "stdout",
     "output_type": "stream",
     "text": [
      "(696, 520)\n",
      "(500, 500)\n"
     ]
    }
   ],
   "source": [
    "from PIL import Image #import image\n",
    "image = Image.open('Nuclei_Msk.jpg') #open the document\n",
    "new_image =image.resize((500,500))  #setting up new size for the image\n",
    "new_image.save('Nuclei_500.jpg')\n",
    "print(image.size)\n",
    "print(new_image.size)  #print out the new image"
   ]
  },
  {
   "cell_type": "markdown",
   "metadata": {},
   "source": [
    "http://localhost:8889/view/ALY6140/Assignment2/Nuclei_500.jpg"
   ]
  },
  {
   "cell_type": "code",
   "execution_count": 2,
   "metadata": {},
   "outputs": [],
   "source": [
    "from PIL import Image\n",
    "image = image = Image.open('Nuclei_Msk.jpg')\n",
    "greyscale_image = image.convert('L')  #transfer the image to greyscale form \n",
    "greyscale_image.save('Nuclei_Msk_GS.jpg')\n",
    "greyscale_image.show()"
   ]
  },
  {
   "cell_type": "markdown",
   "metadata": {},
   "source": [
    "http://localhost:8889/view/ALY6140/Assignment2/Nuclei_Msk_GS.jpg"
   ]
  },
  {
   "cell_type": "code",
   "execution_count": 16,
   "metadata": {},
   "outputs": [],
   "source": [
    "from PIL import Image\n",
    "image = image = Image.open('Nuclei_Msk.jpg')\n",
    "blackscale_image = image.convert('L')  #try to make the image to transfer into black and white\n",
    "blackscale_image.save('Nuclei_Msk_BL.jpg')\n",
    "blackscale_image.show()"
   ]
  },
  {
   "cell_type": "markdown",
   "metadata": {},
   "source": [
    "http://localhost:8889/view/ALY6140/Assignment2/Nuclei_Msk_BL.jpg"
   ]
  },
  {
   "cell_type": "code",
   "execution_count": 19,
   "metadata": {},
   "outputs": [
    {
     "name": "stdout",
     "output_type": "stream",
     "text": [
      "(696, 520)\n",
      "(300, 300)\n"
     ]
    }
   ],
   "source": [
    "from PIL import Image\n",
    "image = Image.open('Nuclei_Msk.jpg')\n",
    "new_image =image.resize((300,300))  #try to resize in 300\n",
    "new_image.save('Nuclei_300.jpg')\n",
    "print(image.size)\n",
    "print(new_image.size) #print out the resize image"
   ]
  },
  {
   "cell_type": "markdown",
   "metadata": {},
   "source": [
    "http://localhost:8889/view/ALY6140/Assignment2/Nuclei_300.jpg"
   ]
  },
  {
   "cell_type": "code",
   "execution_count": null,
   "metadata": {},
   "outputs": [],
   "source": []
  }
 ],
 "metadata": {
  "kernelspec": {
   "display_name": "Python 3",
   "language": "python",
   "name": "python3"
  },
  "language_info": {
   "codemirror_mode": {
    "name": "ipython",
    "version": 3
   },
   "file_extension": ".py",
   "mimetype": "text/x-python",
   "name": "python",
   "nbconvert_exporter": "python",
   "pygments_lexer": "ipython3",
   "version": "3.7.0"
  }
 },
 "nbformat": 4,
 "nbformat_minor": 2
}
