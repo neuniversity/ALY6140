{
 "cells": [
  {
   "cell_type": "markdown",
   "metadata": {},
   "source": [
    "# Assignment \n",
    "* Fill in the code in the cells marked with #GRADED#\n",
    "* Code cells outside of #GRADED# will not be considered for grading. \n",
    "  * Feel free to write outside of it for debugging"
   ]
  },
  {
   "cell_type": "code",
   "execution_count": 1,
   "metadata": {},
   "outputs": [],
   "source": [
    "#import necessary libraries\n",
    "import pandas as pd\n",
    "import numpy as np"
   ]
  },
  {
   "cell_type": "code",
   "execution_count": 2,
   "metadata": {},
   "outputs": [
    {
     "name": "stdout",
     "output_type": "stream",
     "text": [
      "Enter the value of a: 3\n",
      "Enter the value of b: 5\n",
      "value of a^2 - b^2 is -16\n",
      "Result of a+b: 8\n",
      "Result of a-b: -2\n",
      "Value of (a+b)*(a-b) = -16\n",
      "a^2-b^2 = (a+b)*(a-b)\n"
     ]
    }
   ],
   "source": [
    "# GRADED\n",
    "# Provided below are functions that are completely defined (add_numbers),\n",
    "# partially defined (sub_numbers) and not defined (mult_numbers)\n",
    "# (a) Complete sub_numbers so that it return difference of two numbers\n",
    "# (b) Write a function called mult_numbers to multiply two numbers\n",
    "# a^2-b^2 = (a+b)*(a-b)\n",
    "\n",
    "\n",
    "def add_numbers(a, b):\n",
    "    result = a+b\n",
    "    print(\"Result of a+b: %d\" %(a+b))\n",
    "    return result\n",
    "\n",
    "def sub_numbers(a, b):\n",
    "    result = a-b\n",
    "    print(\"Result of a-b: %d\" %(a-b))\n",
    "    return result\n",
    "\n",
    "def mult_numbers(result_add, result_sub):\n",
    "    final_result = result_add*result_sub \n",
    "    return \"Value of (a+b)*(a-b) = %d\" %(final_result)\n",
    "\n",
    "a= int(input(\"Enter the value of a: \"))\n",
    "b= int(input(\"Enter the value of b: \"))\n",
    "print(\"value of a^2 - b^2 is \"+ str(a**2-b**2))\n",
    "print(mult_numbers(add_numbers(a,b), sub_numbers(a,b)))\n",
    "print(\"a^2-b^2 = (a+b)*(a-b)\")\n",
    "\n"
   ]
  },
  {
   "cell_type": "code",
   "execution_count": 3,
   "metadata": {},
   "outputs": [
    {
     "name": "stdout",
     "output_type": "stream",
     "text": [
      "Enter your name: sai\n"
     ]
    },
    {
     "data": {
      "text/plain": [
       "' Your name is sai '"
      ]
     },
     "execution_count": 3,
     "metadata": {},
     "output_type": "execute_result"
    }
   ],
   "source": [
    "# GRADED\n",
    "\n",
    "# Write a function that takes a name and returns\n",
    "# \"Your name is <given_name>\"\n",
    "# Example:\n",
    "# print_name(\"Sharat\") should return \"Your name is Sharat\"\n",
    "# Hint: You string formatting functionality. https://pyformat.info/\n",
    "# format srings\n",
    "name=input(\"Enter your name: \")\n",
    "\n",
    "def print_name(name):\n",
    "    formatted_result = \" Your name is {} \" \n",
    "    return formatted_result.format(name)\n",
    "\n",
    "print_name(name)"
   ]
  },
  {
   "cell_type": "code",
   "execution_count": 6,
   "metadata": {},
   "outputs": [
    {
     "name": "stdout",
     "output_type": "stream",
     "text": [
      "The numbers in the list x, divisble by 2 and less than 6 \n",
      "2\n",
      "4\n",
      "CEO: Microsoft, Name: Satya Nadella is the 1 entry\n",
      "CEO: Amazon, Name: Jeff Bezos is the 2 entry\n",
      "CEO: Apple, Name: Tim Cook is the 3 entry\n"
     ]
    }
   ],
   "source": [
    "# GRADED\n",
    "# \n",
    "# (a) Using a for loop, iterate through the list x\n",
    "# and print an item if its divisible by 2 and less than 6\n",
    "\n",
    "\n",
    "x = [1, 2, 3, 4, 5, 6, 7, 8, 9, 10]\n",
    "print(\"The numbers in the list x, divisble by 2 and less than 6 \")\n",
    "for number in x:\n",
    "    if number%2==0 and number<6:\n",
    "      print(\"%d\" %number)\n",
    "\n",
    "# (b) Using a for loop, iterate through the dictionary y\n",
    "# and print a single string of the form \"company, ceo\"\n",
    "# e.g. \"CEO: Apple, Name: Tim Cook\" will be the third entry\n",
    "\n",
    "y = {\n",
    "    'Satya Nadella': 'Microsoft',\n",
    "    'Jeff Bezos': 'Amazon',\n",
    "    'Tim Cook': 'Apple'\n",
    "}\n",
    "\n",
    "i=0\n",
    "for key in y:\n",
    "    i+=1\n",
    "    print(\"CEO: {}, Name: {} is the {} entry\".format(y[key],key,i))\n",
    "    \n",
    "#for name,company in y.items()\n",
    "# print(\"CEO: {}, Name: {} is the entry\".format(name,company))\n",
    " \n",
    "    \n",
    "\n",
    "        \n",
    "\n",
    "\n",
    "    "
   ]
  },
  {
   "cell_type": "code",
   "execution_count": null,
   "metadata": {},
   "outputs": [],
   "source": []
  },
  {
   "cell_type": "code",
   "execution_count": null,
   "metadata": {},
   "outputs": [],
   "source": []
  },
  {
   "cell_type": "code",
   "execution_count": null,
   "metadata": {},
   "outputs": [],
   "source": []
  }
 ],
 "metadata": {
  "kernelspec": {
   "display_name": "py37",
   "language": "python",
   "name": "py37"
  },
  "language_info": {
   "codemirror_mode": {
    "name": "ipython",
    "version": 3
   },
   "file_extension": ".py",
   "mimetype": "text/x-python",
   "name": "python",
   "nbconvert_exporter": "python",
   "pygments_lexer": "ipython3",
   "version": "3.7.1"
  }
 },
 "nbformat": 4,
 "nbformat_minor": 2
}
