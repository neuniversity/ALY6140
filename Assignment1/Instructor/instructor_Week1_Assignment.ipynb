{
 "cells": [
  {
   "cell_type": "markdown",
   "metadata": {},
   "source": [
    "# Assignment\n",
    "* Download the \"Assignment.ipynb\" notebook \n",
    "* Fill in the code in the cells marked with #GRADED#\n",
    "* Code cells outside of #GRADED# will not be considered for grading. \n",
    "  * Feel free to write outside of it for debugging\n",
    "* Submit the updated notebook\n",
    "  * Make sure to save your changes before submitting it"
   ]
  },
  {
   "cell_type": "code",
   "execution_count": 1,
   "metadata": {},
   "outputs": [],
   "source": [
    "#Import necessary libraries\n",
    "import pandas as pd\n",
    "import numpy as np"
   ]
  },
  {
   "cell_type": "code",
   "execution_count": 9,
   "metadata": {},
   "outputs": [
    {
     "name": "stdout",
     "output_type": "stream",
     "text": [
      "9\n"
     ]
    }
   ],
   "source": [
    "# GRADED\n",
    "# Provided below are functions that are completely defined (add_numbers),\n",
    "# partially defined (sub_numbers) and not defined (mult_numbers)\n",
    "# (a) Complete sub_numbers so that it return difference of two numbers\n",
    "# (b) Write a function called mult_numbers to multiply two numbers\n",
    "\n",
    "def add_numbers(a, b):\n",
    "    result = a + b\n",
    "    return result\n",
    "\n",
    "def sub_numbers(a, b):\n",
    "    result =  =  a - b\n",
    "    return result\n",
    "\n",
    "def mult_numbers(a,b):\n",
    "    result = a * b\n",
    "    return = result\n",
    "\n",
    "print(mult_numbers(add_numbers(5,4), sub_numbers(5,4)))\n",
    "\n"
   ]
  },
  {
   "cell_type": "code",
   "execution_count": 10,
   "metadata": {},
   "outputs": [
    {
     "data": {
      "text/plain": [
       "'Your name is Sharat'"
      ]
     },
     "execution_count": 10,
     "metadata": {},
     "output_type": "execute_result"
    }
   ],
   "source": [
    "# GRADED\n",
    "\n",
    "# Write a function that takes a name and returns\n",
    "# \"Your name is <given_name>\"\n",
    "# Example:\n",
    "# print_name(\"Sharat\") should return \"Your name is Sharat\"\n",
    "# Hint: You string formatting functionality. https://pyformat.info/\n",
    "def print_name(name):\n",
    "    formatted_result = First= \"Your name is\"\n",
    "        Name= \"Sharat\"\n",
    "        Sharat = First + \" \" + Name\n",
    "    return formatted_result\n",
    "\n",
    "print_name(\"Sharat\")\n"
   ]
  },
  {
   "cell_type": "code",
   "execution_count": 12,
   "metadata": {},
   "outputs": [
    {
     "name": "stdout",
     "output_type": "stream",
     "text": [
      "number\n",
      "number\n",
      "CEO: Satya Nadella, Company: Microsoft\n",
      "CEO: Jeff Bezos, Company:  Amazon\n",
      "CEO: Tim Cook, Company: Apple\n"
     ]
    }
   ],
   "source": [
    "# GRADED\n",
    "# \n",
    "# (a) Using a for loop, iterate through the list x\n",
    "# and print an item if its divisible by 2 and less than 6\n",
    "# (b) Using a for loop, iterate through the dictionary y\n",
    "# and print a single string of the form \"company, ceo\"\n",
    "# e.g. \"CEO: Apple, Name: Tim Cook\" will be the third entry\n",
    "x = [1, 2, 3, 4, 5, 6, 7, 8, 9, 10]\n",
    "y = {\n",
    "    'Satya Nadella': 'Microsoft',\n",
    "    'Jeff Bezos': 'Amazon',\n",
    "    'Tim Cook': 'Apple'\n",
    "}\n",
    "for number in x:\n",
    "    if ( number % 2 == 0 and number < 6):\n",
    "            print('number')\n",
    "            \n",
    "# Solution for task B \n",
    "company = ['micorost', 'nuaga']\n",
    "mylist = ['Satya Nadella, Company: Microsoft', 'Jeff Bezos, Company:  Amazon', 'Tim Cook, Company: Apple']\n",
    "for word in mylist:\n",
    "  print (\"CEO: \" + word )\n"
   ]
  },
  {
   "cell_type": "code",
   "execution_count": 6,
   "metadata": {},
   "outputs": [
    {
     "ename": "IndentationError",
     "evalue": "unexpected indent (<ipython-input-6-9f6fd328fa20>, line 2)",
     "output_type": "error",
     "traceback": [
      "\u001b[0;36m  File \u001b[0;32m\"<ipython-input-6-9f6fd328fa20>\"\u001b[0;36m, line \u001b[0;32m2\u001b[0m\n\u001b[0;31m    for number in x:\u001b[0m\n\u001b[0m    ^\u001b[0m\n\u001b[0;31mIndentationError\u001b[0m\u001b[0;31m:\u001b[0m unexpected indent\n"
     ]
    }
   ],
   "source": [
    "\n",
    "  \n",
    "            \n"
   ]
  },
  {
   "cell_type": "code",
   "execution_count": null,
   "metadata": {},
   "outputs": [],
   "source": []
  }
 ],
 "metadata": {
  "kernelspec": {
   "display_name": "Python 3",
   "language": "python",
   "name": "python3"
  },
  "language_info": {
   "codemirror_mode": {
    "name": "ipython",
    "version": 3
   },
   "file_extension": ".py",
   "mimetype": "text/x-python",
   "name": "python",
   "nbconvert_exporter": "python",
   "pygments_lexer": "ipython3",
   "version": "3.7.0"
  }
 },
 "nbformat": 4,
 "nbformat_minor": 2
}
