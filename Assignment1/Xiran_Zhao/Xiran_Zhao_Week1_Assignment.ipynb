{
 "cells": [
  {
   "cell_type": "markdown",
   "metadata": {},
   "source": [
    "# Assignment\n",
    "* Download the \"Assignment.ipynb\" notebook \n",
    "* Fill in the code in the cells marked with #GRADED#\n",
    "* Code cells outside of #GRADED# will not be considered for grading. \n",
    "  * Feel free to write outside of it for debugging\n",
    "* Submit the updated notebook\n",
    "  * Make sure to save your changes before submitting it"
   ]
  },
  {
   "cell_type": "code",
   "execution_count": 8,
   "metadata": {
    "collapsed": true
   },
   "outputs": [],
   "source": [
    "#Import necessary libraries\n",
    "import pandas as pd\n",
    "import numpy as np"
   ]
  },
  {
   "cell_type": "code",
   "execution_count": 9,
   "metadata": {},
   "outputs": [
    {
     "name": "stdout",
     "output_type": "stream",
     "text": [
      "9\n"
     ]
    }
   ],
   "source": [
    "# GRADED\n",
    "# Provided below are functions that are completely defined (add_numbers),\n",
    "# partially defined (sub_numbers) and not defined (mult_numbers)\n",
    "# (a) Complete sub_numbers so that it return difference of two numbers\n",
    "# (b) Write a function called mult_numbers to multiply two numbers\n",
    "\n",
    "def add_numbers(a, b):\n",
    "    result = a + b\n",
    "    return result\n",
    "\n",
    "def sub_numbers(a, b):\n",
    "    # Write code to return sum of a and b\n",
    "    result =  None #Replace None with your code\n",
    "    return result\n",
    "\n",
    "# Uncomment the following when you have done the exercise\n",
    "# a^2-b^2 = (a+b)*(a-b)\n",
    "# e.g 5^2 - 4^2 = (5+4)(5-4) = 9\n",
    "# print(mult_numbers(add_numbers(5,4), sub_numbers(5,4)))\n",
    "# Should print 9"
   ]
  },
  {
   "cell_type": "code",
   "execution_count": 10,
   "metadata": {},
   "outputs": [
    {
     "data": {
      "text/plain": [
       "'Your name is Sharat'"
      ]
     },
     "execution_count": 10,
     "metadata": {},
     "output_type": "execute_result"
    }
   ],
   "source": [
    "# GRADED\n",
    "\n",
    "# Write a function that takes a name and returns\n",
    "# \"Your name is <given_name>\"\n",
    "# Example:\n",
    "# print_name(\"Sharat\") should return \"Your name is Sharat\"\n",
    "# Hint: You string formatting functionality. https://pyformat.info/\n",
    "def print_name(name):\n",
    "    formatted_result = None # Replace with format string\n",
    "    return formatted_result\n",
    "\n",
    "print_name(\"Sharat\")"
   ]
  },
  {
   "cell_type": "code",
   "execution_count": null,
   "metadata": {},
   "outputs": [],
   "source": [
    "# GRADED\n",
    "# \n",
    "# (a) Using a for loop, iterate through the list x\n",
    "# and print an item if its divisible by 2 and less than 6\n",
    "# (b) Using a for loop, iterate through the dictionary y\n",
    "# and print a single string of the form \"company, ceo\"\n",
    "# e.g. \"CEO: Apple, Name: Tim Cook\" will be the third entry\n",
    "x = [1, 2, 3, 4, 5, 6, 7, 8, 9, 10]\n",
    "y = {\n",
    "    'Satya Nadella': 'Microsoft',\n",
    "    'Jeff Bezos': 'Amazon',\n",
    "    'Tim Cook': 'Apple'\n",
    "}"
   ]
  },
  {
   "cell_type": "code",
   "execution_count": null,
   "metadata": {
    "collapsed": true
   },
   "outputs": [],
   "source": []
  }
 ],
 "metadata": {
  "kernelspec": {
   "display_name": "Python 3",
   "language": "python",
   "name": "python3"
  },
  "language_info": {
   "codemirror_mode": {
    "name": "ipython",
    "version": 3
   },
   "file_extension": ".py",
   "mimetype": "text/x-python",
   "name": "python",
   "nbconvert_exporter": "python",
   "pygments_lexer": "ipython3",
   "version": "3.6.2"
  }
 },
 "nbformat": 4,
 "nbformat_minor": 2
}
