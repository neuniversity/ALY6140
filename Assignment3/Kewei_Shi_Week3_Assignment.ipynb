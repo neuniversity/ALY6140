{
 "cells": [
  {
   "cell_type": "markdown",
   "metadata": {},
   "source": [
    "# Assignment\n",
    "* Download the \"Assignment.ipynb\" notebook \n",
    "* Fill in the code in the cells marked with #GRADED#\n",
    "* Code cells outside of #GRADED# will not be considered for grading. \n",
    "  * Feel free to write outside of it for debugging\n",
    "* Submit the updated notebook\n",
    "  * Make sure to save your changes before submitting it"
   ]
  },
  {
   "cell_type": "code",
   "execution_count": 2,
   "metadata": {},
   "outputs": [],
   "source": [
    "#Import necessary libraries\n",
    "import pandas as pd\n",
    "import numpy as np"
   ]
  },
  {
   "cell_type": "code",
   "execution_count": 4,
   "metadata": {},
   "outputs": [
    {
     "name": "stdout",
     "output_type": "stream",
     "text": [
      "a. The shape of arr is: (3, 5) , and number of dimentions is: 2 ; type: <class 'numpy.ndarray'>\n",
      "b. The sum of values in arr is: 105\n",
      "c. The mean of values in arr is: 7.0\n",
      "d. [[0 0 0 0 0]\n",
      " [0 0 0 0 0]\n",
      " [0 0 0 0 0]]\n",
      "e. [[1 1 1 1 1]\n",
      " [1 1 1 1 1]\n",
      " [1 1 1 1 1]]\n",
      "f. [[  0   1   4   9  16]\n",
      " [ 25  36  49  64  81]\n",
      " [100 121 144 169 196]]\n",
      "g. [[ 30  80 130]\n",
      " [ 80 255 430]\n",
      " [130 430 730]]\n"
     ]
    }
   ],
   "source": [
    "### GRADED\n",
    "# (a) Determine the shape, number of dimensions and type of \n",
    "# elements in the numpy array arr\n",
    "# (b) Determine the sum of elements in arr\n",
    "# (c) Determine the mean of elements in arr\n",
    "# (d) Create an array of the same shape as arr but filled with zeros\n",
    "# (e) Create an array of the same shape as arr but filled with ones\n",
    "# (f) Create an array of the same shape as arr but where all elements are squared values\n",
    "# (g) Create an array result of shape 3*3 resulting from multiplication of arr with transpose(arr). Hint: use np.dot\n",
    "import numpy as np\n",
    "arr = np.arange(15).reshape(3, 5)\n",
    "\n",
    "shape = arr.shape\n",
    "dim = arr.ndim\n",
    "type(arr)\n",
    "print('a. The shape of arr is:',shape, ', and number of dimentions is:', dim, '; type:',type(arr))     #(a)\n",
    "\n",
    "sum = arr.sum()\n",
    "print('b. The sum of values in arr is:', sum)     #(b)\n",
    "\n",
    "mean = arr.mean()\n",
    "print('c. The mean of values in arr is:', mean)     #(c)\n",
    "\n",
    "arr2 = np.zeros_like(arr)     #(d)\n",
    "print('d.', arr2)\n",
    "\n",
    "arr3 = np.ones_like(arr)     #(e)\n",
    "print('e.', arr3)\n",
    "\n",
    "arr4 = np.square(arr)     #(f)\n",
    "print('f.', arr4)\n",
    "\n",
    "arrt = arr.T     #(g)\n",
    "arr5 = np.dot(arr, arrt)   \n",
    "print('g.', arr5)\n"
   ]
  },
  {
   "cell_type": "code",
   "execution_count": 8,
   "metadata": {},
   "outputs": [
    {
     "name": "stdout",
     "output_type": "stream",
     "text": [
      "a. The numbers of rows and columns of this dataframe are (150, 5) , respectively.\n",
      "b. ['sepal_length', 'sepal_width', 'petal_length', 'petal_width', 'species']\n",
      "c. The third element of the dataframe is: sepal_length       4.7\n",
      "sepal_width        3.2\n",
      "petal_length       1.3\n",
      "petal_width        0.2\n",
      "species         setosa\n",
      "Name: 2, dtype: object .\n",
      "d. The average number of petal_width of species Virginica is: 2.026 .\n",
      "e. The maximum number of sepal_width of species Setosa is: 4.4 .\n",
      "f. The average value of sepal_length is: 5.843333333333334 .\n",
      "g. The maximum value of sepal_width is: 4.4 .\n",
      "h. The minimum value of petal_width is: 0.1 .\n"
     ]
    }
   ],
   "source": [
    "### GRADED\n",
    "# The following piece of code creates a DataFrame \n",
    "# (a) Determine the shape of the dataframe\n",
    "# (b) Print out all the columns of the dataframe\n",
    "# (c) Print the 3rd element of the dataframe\n",
    "# (d) Find the average of 'petal_width' where species is 'virginica'\n",
    "# (e) Find the maximum of 'sepal_width' where species is 'setosa'\n",
    "# (f): What is the average value of sepal_length\n",
    "# (g): What is the maximum value of sepal_width\n",
    "# (h): What is the minimum value of petal_width\n",
    "import pandas as pd\n",
    "df = pd.read_csv('https://raw.githubusercontent.com/mwaskom/seaborn-data/master/iris.csv')\n",
    "df.head(10) #prints the first 10 rows\n",
    "\n",
    "df.shape     #(a)\n",
    "print('a. The numbers of rows and columns of this dataframe are',df.shape,\", respectively.\")\n",
    "\n",
    "column = list(df.head(0))     #(b)\n",
    "print('b.',column)\n",
    "\n",
    "df.iloc[2]     #(c)\n",
    "print('c. The third element of the dataframe is:', df.iloc[2],'.')\n",
    "\n",
    "df.groupby('species').mean().iloc[2,3]     #(d)\n",
    "vmean = df.groupby('species').mean().iloc[2,3]\n",
    "print('d. The average number of petal_width of species Virginica is:',vmean, '.')\n",
    "\n",
    "df.groupby('species').max()     #(e)\n",
    "smax = df.groupby('species').max().iloc[0,1]\n",
    "print('e. The maximum number of sepal_width of species Setosa is:',smax, '.')\n",
    "\n",
    "df['sepal_length'].mean()     #(f)\n",
    "print('f. The average value of sepal_length is:', df['sepal_length'].mean(),'.')\n",
    "\n",
    "df['sepal_width'].max()     #(g)\n",
    "print('g. The maximum value of sepal_width is:',df['sepal_width'].max(),'.')\n",
    "\n",
    "df['petal_width'].min()     #(h)\n",
    "print('h. The minimum value of petal_width is:',df['petal_width'].min(),'.')"
   ]
  },
  {
   "cell_type": "markdown",
   "metadata": {
    "collapsed": true
   },
   "source": [
    "### GRADED: Getting started on the capstone project\n",
    "We will start working on our capstone project this week. For this week, the task consists of\n",
    "Finding a dataset of interest.\n",
    "    -You can use the links in the supplementary materials to help you find the dataset\n",
    "    -This dataset should be publicly accessible and available for download\n",
    "    -Should be of interest to the class\n",
    "    -The goal is to be askign and answering important questions about the data\n",
    "You can start with the following datasets or find your own\n",
    "### Open datasets\n",
    "          \n",
    "* Resources for open data\n",
    "  * https://data.boston.gov/\n",
    "  * https://www.data.gov/\n",
    "  * https://www.bls.gov/data/\n",
    "  * http://www.fao.org/statistics/databases/en/\n",
    "  * http://ec.europa.eu/eurostat/web/main\n",
    "  * https://github.com/awesomedata/awesome-public-datasets\n",
    "  * https://www.kdnuggets.com/2016/05/top-10-datasets-github.html\n",
    "  * https://www.quora.com/Where-can-I-find-large-datasets-open-to-the-public\n",
    "    \n",
    "### Questions\n",
    "\n",
    "* Q: Shortlist three datasets of interest\n",
    "* Q: For each dataset suggest describe the data (a few sentences) and questions that can be answered using that data (a few sentences)\n"
   ]
  },
  {
   "cell_type": "markdown",
   "metadata": {
    "collapsed": true
   },
   "source": [
    "Datasets of interest: \n",
    "1. Crime Incident Rerpots (August 2015 - To Date); link:https://data.boston.gov/dataset/6220d948-eae2-4e4b-8723-2dc8e67722a3/resource/12cb3883-56f5-47de-afa5-3b1cf61b257b/download/crime.csv \n",
    "\n",
    "2. BPD Firearm Recovery Counts; link: https://data.boston.gov/dataset/3937b427-6aa4-4515-b30d-c76771313feb/resource/a3d2260f-8a41-4e95-9134-d14711b0f954/download/bpdfirearmrecoveries20180419.csv\n",
    "\n",
    "3. Big Belly Alerts 2014; link:https://data.boston.gov/dataset/fb5a108b-5f3a-4347-a091-6bc2b1753ea5/resource/c8c54c49-3097-40fc-b3f2-c9508b8d393a/download/big-belly-alerts-2014.csv\n",
    "\n",
    "Dataset description:\n",
    "The crime incident reports dataset lists information of incidents that Boston PD officers responded. Details include the description, locations and time incidents took place, whether firearms were involved, and so sorth. From this database, one could categorize crime incidents based on category, danger level, and figure out which areas are prime locations for vicious crimes such as shootings and robberies, and Boston PD could use these information to modify the dispatch and patrol approaches. \n",
    "\n",
    "The BPD firearm recovery counts dataset shows the methods of recovery and counts of firearms recovered by different methods. Information collected from the dataset can be used to compare the results of different firearm recovery methods and to select a better overall recovery method to recover firearms more safely and efficiently.\n",
    "\n",
    "The big belly alerts 2014 dateset describes the locations, fullness and other useful information about trash receptacles located throughout the city of Boston. The information from this dataset can be analyzed to show trash receptacles that are full most of the time, as well as those that tend to remain low on fullness or empty frequently. The city then can use these information to relocate trash receptacles to make them work more efficiently. "
   ]
  }
 ],
 "metadata": {
  "kernelspec": {
   "display_name": "Python [conda env:py36]",
   "language": "python",
   "name": "conda-env-py36-py"
  },
  "language_info": {
   "codemirror_mode": {
    "name": "ipython",
    "version": 3
   },
   "file_extension": ".py",
   "mimetype": "text/x-python",
   "name": "python",
   "nbconvert_exporter": "python",
   "pygments_lexer": "ipython3",
   "version": "3.6.7"
  }
 },
 "nbformat": 4,
 "nbformat_minor": 2
}
