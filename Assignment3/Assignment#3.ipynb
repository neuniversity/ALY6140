{
 "cells": [
  {
   "cell_type": "markdown",
   "metadata": {},
   "source": [
    "# Assignment\n",
    "* Download the \"Assignment.ipynb\" notebook \n",
    "* Fill in the code in the cells marked with #GRADED#\n",
    "* Code cells outside of #GRADED# will not be considered for grading. \n",
    "  * Feel free to write outside of it for debugging\n",
    "* Submit the updated notebook\n",
    "  * Make sure to save your changes before submitting it"
   ]
  },
  {
   "cell_type": "code",
   "execution_count": 14,
   "metadata": {
    "collapsed": true
   },
   "outputs": [],
   "source": [
    "#Import necessary libraries\n",
    "import pandas as pd\n",
    "import numpy as np"
   ]
  },
  {
   "cell_type": "code",
   "execution_count": 4,
   "metadata": {},
   "outputs": [
    {
     "ename": "SyntaxError",
     "evalue": "invalid syntax (<ipython-input-4-6a235e34f363>, line 10)",
     "output_type": "error",
     "traceback": [
      "\u001b[0;36m  File \u001b[0;32m\"<ipython-input-4-6a235e34f363>\"\u001b[0;36m, line \u001b[0;32m10\u001b[0m\n\u001b[0;31m    ray result of shape 3*3 resulting from multiplication of arr with transpose(arr). Hint: use np.dot\u001b[0m\n\u001b[0m             ^\u001b[0m\n\u001b[0;31mSyntaxError\u001b[0m\u001b[0;31m:\u001b[0m invalid syntax\n"
     ]
    }
   ],
   "source": [
    "### GRADED\n",
    "# (a) Determine the shape, number of dimensions and type of \n",
    "# elements in the numpy array arr\n",
    "# (b) Determine the sum of elements in arr\n",
    "# (c) Determine the mean of elements in arr\n",
    "# (d) Create an array of the same shape as arr but filled with zeros\n",
    "# (e) Create an array of the same shape as arr but filled with ones\n",
    "# (f) Create an array of the same shape as arr but where all elements are squared values\n",
    "# (g) Create an ar\n",
    "ray result of shape 3*3 resulting from multiplication of arr with transpose(arr). Hint: use np.dot\n"
   ]
  },
  {
   "cell_type": "code",
   "execution_count": 15,
   "metadata": {},
   "outputs": [
    {
     "name": "stdout",
     "output_type": "stream",
     "text": [
      "Shape of this array is:  (3, 5)\n",
      "Number of dimension is:  2\n",
      "The mean of values in arr is:  <built-in method mean of numpy.ndarray object at 0x107f48760>\n",
      "[[0 0 0 0 0]\n",
      " [0 0 0 0 0]\n",
      " [0 0 0 0 0]]\n",
      "[[1 1 1 1 1]\n",
      " [1 1 1 1 1]\n",
      " [1 1 1 1 1]]\n",
      "[[  0   1   4   9  16]\n",
      " [ 25  36  49  64  81]\n",
      " [100 121 144 169 196]]\n",
      "[[ 30  80 130]\n",
      " [ 80 255 430]\n",
      " [130 430 730]]\n"
     ]
    }
   ],
   "source": [
    "import numpy as np\n",
    "arr = np.arange(15).reshape(3, 5)\n",
    "shape = arr.shape\n",
    "dim = arr.ndim\n",
    "type(arr)\n",
    "# (a) Determine the shape, number of dimensions and type of \n",
    "# elements in the numpy array arr\n",
    "print(\"Shape of this array is: \", arr.shape)\n",
    "\n",
    "# (b) Determine the sum of elements in arr\n",
    "print(\"Number of dimension is: \", arr.ndim)\n",
    "\n",
    "# (c) Determine the mean of elements in arr\n",
    "print(\"The mean of values in arr is: \", arr.mean)\n",
    "\n",
    "# (d) Create an array of the same shape as arr but filled with zeros\n",
    "print(np.zeros_like(arr))\n",
    "\n",
    "# (e) Create an array of the same shape as arr but filled with ones\n",
    "print(np.ones_like(arr))\n",
    "\n",
    "# (f) Create an array of the same shape as arr but where all elements are squared values\n",
    "print(np.square(arr))\n",
    "\n",
    "# (g) Create an ar\n",
    "arrt=arr.T\n",
    "print(np.dot(arr,arrt))"
   ]
  },
  {
   "cell_type": "code",
   "execution_count": 36,
   "metadata": {},
   "outputs": [
    {
     "name": "stdout",
     "output_type": "stream",
     "text": [
      "(150, 5)\n",
      "['sepal_length', 'sepal_width', 'petal_length', 'petal_width', 'species']\n",
      "sepal_length       4.7\n",
      "sepal_width        3.2\n",
      "petal_length       1.3\n",
      "petal_width        0.2\n",
      "species         setosa\n",
      "Name: 2, dtype: object\n",
      "2.026\n",
      "4.4\n",
      "5.843333333333335\n",
      "4.4\n",
      "0.1\n"
     ]
    }
   ],
   "source": [
    "### GRADED\n",
    "# The following piece of code creates a DataFrame \n",
    "# (a) Determine the shape of the dataframe\n",
    "# (b) Print out all the columns of the dataframe\n",
    "# (c) Print the 3rd element of the dataframe\n",
    "# (d) Find the average of 'petal_width' where species is 'virginica'\n",
    "# (e) Find the maximum of 'sepal_width' where species is 'setosa'\n",
    "# (f): What is the average value of sepal_length\n",
    "# (g): What is the maximum value of sepal_width\n",
    "# (h): What is the minimum value of petal_width\n",
    "import pandas as pd\n",
    "df = pd.read_csv('https://raw.githubusercontent.com/mwaskom/seaborn-data/master/iris.csv')\n",
    "df.head(10) #prints the first 10 rows\n",
    "\n",
    "# (a) Determine the shape of the dataframe\n",
    "print(df.shape)\n",
    "\n",
    "# (b) Print out all the columns of the dataframe\n",
    "column = list(df.head(0))\n",
    "print(column)\n",
    "\n",
    "# (c) Print the 3rd element of the dataframe\n",
    "print(df.iloc[2],)\n",
    "\n",
    "# (d) Find the average of 'petal_width' where species is 'virginica'\n",
    "vmean = df.groupby(\"species\").mean().iloc[2,3]\n",
    "print(vmean)\n",
    "\n",
    "# (e) Find the maximum of 'sepal_width' where species is 'setosa'\n",
    "df.groupby(\"species\").max()\n",
    "smax = df.groupby(\"species\").max().iloc[0,1]\n",
    "print(smax)\n",
    "\n",
    "# (f): What is the average value of sepal_length\n",
    "df[\"sepal_length\"].mean()\n",
    "print(df['sepal_length'].mean())\n",
    "\n",
    "\n",
    "# (g): What is the maximum value of sepal_width\n",
    "df[\"sepal_width\"].max()\n",
    "print(df[\"sepal_width\"].max())\n",
    "\n",
    "# (h): What is the minimum value of petal_width\n",
    "df[\"petal_width\"].min()\n",
    "print(df[\"petal_width\"].min())\n",
    "\n"
   ]
  },
  {
   "cell_type": "code",
   "execution_count": null,
   "metadata": {},
   "outputs": [],
   "source": []
  },
  {
   "cell_type": "code",
   "execution_count": null,
   "metadata": {},
   "outputs": [],
   "source": []
  },
  {
   "cell_type": "markdown",
   "metadata": {
    "collapsed": true
   },
   "source": [
    "## GRADED: Getting started on the capstone project\n",
    "We will start working on our capstone project this week. For this week, the task consists of\n",
    "Finding a dataset of interest.\n",
    "    -You can use the links in the supplementary materials to help you find the dataset\n",
    "    -This dataset should be publicly accessible and available for download\n",
    "    -Should be of interest to the class\n",
    "    -The goal is to be askign and answering important questions about the data\n",
    "You can start with the following datasets or find your own\n",
    "### Open datasets\n",
    "          \n",
    "* Resources for open data\n",
    "  * https://data.boston.gov/\n",
    "  * https://www.data.gov/\n",
    "  * https://www.bls.gov/data/\n",
    "  * http://www.fao.org/statistics/databases/en/\n",
    "  * http://ec.europa.eu/eurostat/web/main\n",
    "  * https://github.com/awesomedata/awesome-public-datasets\n",
    "  * https://www.kdnuggets.com/2016/05/top-10-datasets-github.html\n",
    "  * https://www.quora.com/Where-can-I-find-large-datasets-open-to-the-public\n",
    "    \n",
    "### Questions\n",
    "\n",
    "* Q: Shortlist three datasets of interest\n",
    "* Q: For each dataset suggest describe the data (a few sentences) and questions that can be answered using that data (a few sentences)\n",
    "\n",
    "#1 CRIME INCIDENT REPORTS\n",
    "Crime incident reports are provided by Boston Police Department (BPD) to document the initial details surrounding an incident to which BPD officers respond. This is a dataset containing. This dataset counts all the crime since 2015. We can analysis the location, income difference, time or any else variables in this data to know which area need more police force and find out the reason of the inequality distribution of crime. Retrieve from: https://data.boston.gov/dataset/crime-incident-reports-august-2015-to-date-source-new-system/resource/12cb3883-56f5-47de-afa5-3b1cf61b257b\n",
    "\n",
    "#2 Population Estimates\n",
    "The program publishes estimates of the population by age, sex, race, and Hispanic origin for the nation, states, and counties. It also provides estimates of the total population for functioning governmental units. We can do research about the distribution of people among United States. Then we can analyze why differernt kind people choose differet areas to live. We also can find out the birth rate and death rate in different place and analyze the reason od those difference. Retrieve from: https://catalog.data.gov/dataset/population-estimates\n",
    "\n",
    "#3 Inpatient Prospective Payment\n",
    "The data provided here include hospital-specific charges for the more than 3,000 U.S. hospitals that receive Medicare Inpatient Prospective Payment System (IPPS) payments for the top 100 most frequently billed discharges, paid under Medicare based on a rate per discharge using the Medicare Severity Diagnosis Related Group. We can find out the medicare cost in differernt area and trying to set the proper price for patient and trying to give some suggestions to insurance policy. Retrieve from: http://www.fao.org/gender-landrights-database/resources/publications/publication-details/en/c/385329/\n",
    "\n",
    "\n",
    "\n"
   ]
  },
  {
   "cell_type": "code",
   "execution_count": null,
   "metadata": {
    "collapsed": true
   },
   "outputs": [],
   "source": [
    "\n"
   ]
  }
 ],
 "metadata": {
  "kernelspec": {
   "display_name": "Python 3",
   "language": "python",
   "name": "python3"
  },
  "language_info": {
   "codemirror_mode": {
    "name": "ipython",
    "version": 3
   },
   "file_extension": ".py",
   "mimetype": "text/x-python",
   "name": "python",
   "nbconvert_exporter": "python",
   "pygments_lexer": "ipython3",
   "version": "3.7.0"
  }
 },
 "nbformat": 4,
 "nbformat_minor": 2
}
