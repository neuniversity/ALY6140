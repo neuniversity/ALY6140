{
 "cells": [
  {
   "cell_type": "markdown",
   "metadata": {},
   "source": [
    "# Assignment\n",
    "* Download the \"Assignment.ipynb\" notebook \n",
    "* Fill in the code in the cells marked with #GRADED#\n",
    "* Code cells outside of #GRADED# will not be considered for grading. \n",
    "  * Feel free to write outside of it for debugging\n",
    "* Submit the updated notebook\n",
    "  * Make sure to save your changes before submitting it"
   ]
  },
  {
   "cell_type": "code",
   "execution_count": 3,
   "metadata": {},
   "outputs": [],
   "source": [
    "#Import necessary libraries\n",
    "import pandas as pd\n",
    "import numpy as np"
   ]
  },
  {
   "cell_type": "code",
   "execution_count": 4,
   "metadata": {},
   "outputs": [
    {
     "name": "stdout",
     "output_type": "stream",
     "text": [
      "[[ 0  1  2  3  4]\n",
      " [ 5  6  7  8  9]\n",
      " [10 11 12 13 14]]\n"
     ]
    }
   ],
   "source": [
    "## arr is the value that we are going to use for our first part\n",
    "arr = np.arange(15).reshape(3, 5)\n",
    "print(arr)"
   ]
  },
  {
   "cell_type": "code",
   "execution_count": 5,
   "metadata": {},
   "outputs": [
    {
     "name": "stdout",
     "output_type": "stream",
     "text": [
      "Shape of the array is (3, 5)\n",
      "Array arr has elements of int64 type\n",
      "Dimensions of this array. There are 3 rows and 5 columns\n"
     ]
    }
   ],
   "source": [
    "### GRADED\n",
    "# (a) Determine the shape, number of dimensions and type of \n",
    "# elements in the numpy array arr\n",
    "\n",
    "#shape\n",
    "shape = arr.shape\n",
    "print(\"Shape of the array is {}\".format(shape))\n",
    "\n",
    "#type of elements\n",
    "type = arr.dtype\n",
    "print(\"Array arr has elements of {} type\".format(type))\n",
    "\n",
    "#dimensions\n",
    "rows, columns = arr.shape\n",
    "dimensions = \"Dimensions of this array. There are {} rows and {} columns\".format(rows, columns)\n",
    "print(dimensions)"
   ]
  },
  {
   "cell_type": "code",
   "execution_count": 6,
   "metadata": {},
   "outputs": [
    {
     "name": "stdout",
     "output_type": "stream",
     "text": [
      "105\n",
      "Array containing the sum of individual rows is [10 35 60]\n",
      "Array containing the sum of individual columns is [15 18 21 24 27]\n"
     ]
    }
   ],
   "source": [
    "# (b) Determine the sum of elements in arr\n",
    "\n",
    "# Sum of elements in array\n",
    "arr_sum = np.sum(arr)\n",
    "print(arr_sum)\n",
    "\n",
    "# sum of individual rows in array\n",
    "arr_rows = np.sum(arr, axis=1)\n",
    "print(\"Array containing the sum of individual rows is\", arr_rows)\n",
    "\n",
    "# sum of individual columns in array\n",
    "arr_columns = np.sum(arr, axis=0)\n",
    "print(\"Array containing the sum of individual columns is\", arr_columns)\n"
   ]
  },
  {
   "cell_type": "code",
   "execution_count": 7,
   "metadata": {},
   "outputs": [
    {
     "name": "stdout",
     "output_type": "stream",
     "text": [
      "7.0\n"
     ]
    }
   ],
   "source": [
    "# (c) Determine the mean of elements in arr\n",
    "arr_mean = np.mean(arr)\n",
    "print(arr_mean)"
   ]
  },
  {
   "cell_type": "code",
   "execution_count": 8,
   "metadata": {},
   "outputs": [
    {
     "name": "stdout",
     "output_type": "stream",
     "text": [
      "[[0. 0. 0. 0. 0.]\n",
      " [0. 0. 0. 0. 0.]\n",
      " [0. 0. 0. 0. 0.]]\n"
     ]
    }
   ],
   "source": [
    "# (d) Create an array of the same shape as arr but filled with zeros\n",
    "arr_zero = np.zeros(arr.shape)\n",
    "print(arr_zero)"
   ]
  },
  {
   "cell_type": "code",
   "execution_count": 9,
   "metadata": {},
   "outputs": [
    {
     "name": "stdout",
     "output_type": "stream",
     "text": [
      "[[1. 1. 1. 1. 1.]\n",
      " [1. 1. 1. 1. 1.]\n",
      " [1. 1. 1. 1. 1.]]\n"
     ]
    }
   ],
   "source": [
    "# (e) Create an array of the same shape as arr but filled with ones\n",
    "arr_ones = np.ones(arr.shape)\n",
    "print(arr_ones)"
   ]
  },
  {
   "cell_type": "code",
   "execution_count": 10,
   "metadata": {},
   "outputs": [
    {
     "name": "stdout",
     "output_type": "stream",
     "text": [
      "[[  0   1   4   9  16]\n",
      " [ 25  36  49  64  81]\n",
      " [100 121 144 169 196]]\n"
     ]
    }
   ],
   "source": [
    "# (f) Create an array of the same shape as arr but where all elements are squared values\n",
    "arr_squared = np.square(arr)\n",
    "print(arr_squared)"
   ]
  },
  {
   "cell_type": "code",
   "execution_count": 11,
   "metadata": {},
   "outputs": [
    {
     "name": "stdout",
     "output_type": "stream",
     "text": [
      "[[ 30  80 130]\n",
      " [ 80 255 430]\n",
      " [130 430 730]]\n"
     ]
    }
   ],
   "source": [
    "# (g) Create an array result of shape 3*3 resulting from multiplication of arr with transpose(arr). Hint: use np.dot\n",
    "arr_transpose = np.transpose(arr)\n",
    "#print(arr_transpose)\n",
    "\n",
    "arr_new = np.dot(arr, arr_transpose)\n",
    "print(arr_new)"
   ]
  },
  {
   "cell_type": "code",
   "execution_count": 12,
   "metadata": {},
   "outputs": [
    {
     "data": {
      "text/html": [
       "<div>\n",
       "<style scoped>\n",
       "    .dataframe tbody tr th:only-of-type {\n",
       "        vertical-align: middle;\n",
       "    }\n",
       "\n",
       "    .dataframe tbody tr th {\n",
       "        vertical-align: top;\n",
       "    }\n",
       "\n",
       "    .dataframe thead th {\n",
       "        text-align: right;\n",
       "    }\n",
       "</style>\n",
       "<table border=\"1\" class=\"dataframe\">\n",
       "  <thead>\n",
       "    <tr style=\"text-align: right;\">\n",
       "      <th></th>\n",
       "      <th>sepal_length</th>\n",
       "      <th>sepal_width</th>\n",
       "      <th>petal_length</th>\n",
       "      <th>petal_width</th>\n",
       "      <th>species</th>\n",
       "    </tr>\n",
       "  </thead>\n",
       "  <tbody>\n",
       "    <tr>\n",
       "      <th>0</th>\n",
       "      <td>5.1</td>\n",
       "      <td>3.5</td>\n",
       "      <td>1.4</td>\n",
       "      <td>0.2</td>\n",
       "      <td>setosa</td>\n",
       "    </tr>\n",
       "    <tr>\n",
       "      <th>1</th>\n",
       "      <td>4.9</td>\n",
       "      <td>3.0</td>\n",
       "      <td>1.4</td>\n",
       "      <td>0.2</td>\n",
       "      <td>setosa</td>\n",
       "    </tr>\n",
       "    <tr>\n",
       "      <th>2</th>\n",
       "      <td>4.7</td>\n",
       "      <td>3.2</td>\n",
       "      <td>1.3</td>\n",
       "      <td>0.2</td>\n",
       "      <td>setosa</td>\n",
       "    </tr>\n",
       "    <tr>\n",
       "      <th>3</th>\n",
       "      <td>4.6</td>\n",
       "      <td>3.1</td>\n",
       "      <td>1.5</td>\n",
       "      <td>0.2</td>\n",
       "      <td>setosa</td>\n",
       "    </tr>\n",
       "    <tr>\n",
       "      <th>4</th>\n",
       "      <td>5.0</td>\n",
       "      <td>3.6</td>\n",
       "      <td>1.4</td>\n",
       "      <td>0.2</td>\n",
       "      <td>setosa</td>\n",
       "    </tr>\n",
       "    <tr>\n",
       "      <th>5</th>\n",
       "      <td>5.4</td>\n",
       "      <td>3.9</td>\n",
       "      <td>1.7</td>\n",
       "      <td>0.4</td>\n",
       "      <td>setosa</td>\n",
       "    </tr>\n",
       "    <tr>\n",
       "      <th>6</th>\n",
       "      <td>4.6</td>\n",
       "      <td>3.4</td>\n",
       "      <td>1.4</td>\n",
       "      <td>0.3</td>\n",
       "      <td>setosa</td>\n",
       "    </tr>\n",
       "    <tr>\n",
       "      <th>7</th>\n",
       "      <td>5.0</td>\n",
       "      <td>3.4</td>\n",
       "      <td>1.5</td>\n",
       "      <td>0.2</td>\n",
       "      <td>setosa</td>\n",
       "    </tr>\n",
       "    <tr>\n",
       "      <th>8</th>\n",
       "      <td>4.4</td>\n",
       "      <td>2.9</td>\n",
       "      <td>1.4</td>\n",
       "      <td>0.2</td>\n",
       "      <td>setosa</td>\n",
       "    </tr>\n",
       "    <tr>\n",
       "      <th>9</th>\n",
       "      <td>4.9</td>\n",
       "      <td>3.1</td>\n",
       "      <td>1.5</td>\n",
       "      <td>0.1</td>\n",
       "      <td>setosa</td>\n",
       "    </tr>\n",
       "  </tbody>\n",
       "</table>\n",
       "</div>"
      ],
      "text/plain": [
       "   sepal_length  sepal_width  petal_length  petal_width species\n",
       "0           5.1          3.5           1.4          0.2  setosa\n",
       "1           4.9          3.0           1.4          0.2  setosa\n",
       "2           4.7          3.2           1.3          0.2  setosa\n",
       "3           4.6          3.1           1.5          0.2  setosa\n",
       "4           5.0          3.6           1.4          0.2  setosa\n",
       "5           5.4          3.9           1.7          0.4  setosa\n",
       "6           4.6          3.4           1.4          0.3  setosa\n",
       "7           5.0          3.4           1.5          0.2  setosa\n",
       "8           4.4          2.9           1.4          0.2  setosa\n",
       "9           4.9          3.1           1.5          0.1  setosa"
      ]
     },
     "execution_count": 12,
     "metadata": {},
     "output_type": "execute_result"
    }
   ],
   "source": [
    "### GRADED\n",
    "# The following piece of code creates a DataFrame \n",
    "\n",
    "import pandas as pd\n",
    "df = pd.read_csv('https://raw.githubusercontent.com/mwaskom/seaborn-data/master/iris.csv')\n",
    "df.head(10) #prints the first 10 rows"
   ]
  },
  {
   "cell_type": "code",
   "execution_count": 13,
   "metadata": {},
   "outputs": [
    {
     "name": "stdout",
     "output_type": "stream",
     "text": [
      "Shape of the dataframe is (150, 5)\n"
     ]
    }
   ],
   "source": [
    "# (a) Determine the shape of the dataframe\n",
    "\n",
    "dataframe_shape = df.shape\n",
    "print(\"Shape of the dataframe is {}\".format(dataframe_shape))"
   ]
  },
  {
   "cell_type": "code",
   "execution_count": 14,
   "metadata": {},
   "outputs": [
    {
     "name": "stdout",
     "output_type": "stream",
     "text": [
      "Columns in the dataframe: ['sepal_length', 'sepal_width', 'petal_length', 'petal_width', 'species']\n"
     ]
    }
   ],
   "source": [
    "# (b) Print out all the columns of the dataframe\n",
    "\n",
    "dataframe_col = df.columns\n",
    "print(\"Columns in the dataframe:\", list(dataframe_col))"
   ]
  },
  {
   "cell_type": "code",
   "execution_count": 36,
   "metadata": {},
   "outputs": [
    {
     "name": "stdout",
     "output_type": "stream",
     "text": [
      "   sepal_length  sepal_width  petal_length  petal_width species\n",
      "3           4.6          3.1           1.5          0.2  setosa\n"
     ]
    }
   ],
   "source": [
    "# (c) Print the 3rd element of the dataframe\n",
    "\n",
    "df_3 = df.loc[[3],['sepal_length', 'sepal_width', 'petal_length', 'petal_width', 'species']]\n",
    "print(df_3)"
   ]
  },
  {
   "cell_type": "code",
   "execution_count": 16,
   "metadata": {},
   "outputs": [
    {
     "name": "stdout",
     "output_type": "stream",
     "text": [
      "The average value of petal_width is 2.0260000000000002\n"
     ]
    }
   ],
   "source": [
    "# (d) Find the average of 'petal_width' where species is 'virginica'\n",
    "\n",
    "avg_columns = df.loc[df['species'] == 'virginica'].mean()\n",
    "print(\"The average value of petal_width is {}\".format(avg_columns['petal_width']))"
   ]
  },
  {
   "cell_type": "code",
   "execution_count": 17,
   "metadata": {},
   "outputs": [
    {
     "name": "stdout",
     "output_type": "stream",
     "text": [
      "Maximum of 'sepal_width' where species is 'setosa' is 4.4\n"
     ]
    }
   ],
   "source": [
    "# (e) Find the maximum of 'sepal_width' where species is 'setosa'\n",
    "\n",
    "max_relevant_cols = df.loc[df['species'] == 'setosa'].max()\n",
    "print(\"Maximum of 'sepal_width' where species is 'setosa' is {}\".format(max_relevant_cols['sepal_width']))"
   ]
  },
  {
   "cell_type": "code",
   "execution_count": 18,
   "metadata": {},
   "outputs": [
    {
     "name": "stdout",
     "output_type": "stream",
     "text": [
      "The average value of sepal_length is 5.843333333333334\n"
     ]
    }
   ],
   "source": [
    "# (f): What is the average value of sepal_length\n",
    "\n",
    "average_value = df['sepal_length'].mean()\n",
    "print(\"The average value of sepal_length is {}\".format(average_value))"
   ]
  },
  {
   "cell_type": "code",
   "execution_count": 19,
   "metadata": {},
   "outputs": [
    {
     "name": "stdout",
     "output_type": "stream",
     "text": [
      "Maximum value of sepal_width 4.4\n"
     ]
    }
   ],
   "source": [
    "# (g): What is the maximum value of sepal_width\n",
    "\n",
    "max_sepal_width = df['sepal_width'].max()\n",
    "print(\"Maximum value of sepal_width {}\".format(max_sepal_width))"
   ]
  },
  {
   "cell_type": "code",
   "execution_count": 20,
   "metadata": {},
   "outputs": [
    {
     "name": "stdout",
     "output_type": "stream",
     "text": [
      "Minimum value of petal_width 0.1\n"
     ]
    }
   ],
   "source": [
    "# (h): What is the minimum value of petal_width\n",
    "\n",
    "min_petal_width = df['petal_width'].min()\n",
    "print(\"Minimum value of petal_width {}\".format(min_petal_width))\n"
   ]
  },
  {
   "cell_type": "markdown",
   "metadata": {
    "collapsed": true
   },
   "source": [
    "### GRADED: Getting started on the capstone project\n",
    "We will start working on our capstone project this week. For this week, the task consists of\n",
    "Finding a dataset of interest.\n",
    "    -You can use the links in the supplementary materials to help you find the dataset\n",
    "    -This dataset should be publicly accessible and available for download\n",
    "    -Should be of interest to the class\n",
    "    -The goal is to be askign and answering important questions about the data\n",
    "You can start with the following datasets or find your own\n",
    "### Open datasets\n",
    "          \n",
    "* Resources for open data\n",
    "  * https://data.boston.gov/\n",
    "  * https://www.data.gov/\n",
    "  * https://www.bls.gov/data/\n",
    "  * http://www.fao.org/statistics/databases/en/\n",
    "  * http://ec.europa.eu/eurostat/web/main\n",
    "  * https://github.com/awesomedata/awesome-public-datasets\n",
    "  * https://www.kdnuggets.com/2016/05/top-10-datasets-github.html\n",
    "  * https://www.quora.com/Where-can-I-find-large-datasets-open-to-the-public\n",
    "    \n",
    "### Questions\n",
    "\n",
    "* Q: Shortlist three datasets of interest\n",
    "* Q: For each dataset suggest describe the data (a few sentences) and questions that can be answered using that data (a few sentences)\n"
   ]
  },
  {
   "cell_type": "markdown",
   "metadata": {},
   "source": [
    "For the capstone project I have shortlisted below 3 datasets:\n",
    "    \n",
    "    \n",
    "## Dataset 1: Employee Earnings Report 2016\n",
    "    \n",
    "Each year, the **City of Boston** publishes payroll data for employees from various departments with various job titles.\n",
    "I have chosen the **Employee Earning Report** for year **2016**. This dataset contains `employee names`,`job details` (department and job titles), and `earnings information` including `base salary`, `overtime`, and `total compensation` for employees of the Boston City. \n",
    "\n",
    "### Questions that can be answered:\n",
    "\n",
    "    1. Maximum and minimum salary for various job titles and department.\n",
    "    2. Average salary for various departments/job titles.\n",
    "    3. Which department requires more overtime. \n",
    "    4. Which department/job title pays more overtime salary.\n",
    "    \n",
    "----\n",
    "\n",
    "## Dataset 2: Crime Data Seattle City\n",
    "    \n",
    "This dataset represents, crime reported to the **Seattle Police Department (SPD)** from year **1908 to 2018**. There are more than **500k** rows in this dataset. Each row contains the record of a unique event where at least one criminal offense was reported by a member of the community or detected by an officer in the field.\n",
    "\n",
    "This dataset contains `crime occured date` and occured `time`, `reported date` and `reported time`, `type of crime` and `neighbourhood`.\n",
    "\n",
    "### Questions that can be answered:\n",
    "\n",
    "    1. In which neighbourhood majority of the crimes happen.\n",
    "    2. At what time crimes occur the most and when the least.\n",
    "    3. What type of crimes happen more in Seattle.\n",
    "    \n",
    "----\n",
    "\n",
    "## Dataset 3: City of Seattle Wages: Comparison by Gender - All Job Classifications\n",
    "    \n",
    "This dataset represents, **average pay comparison of male and female wages** by job classification (except Library job classes) for **City of Seattle**. The data contains weighted `average hourly pay rates` for women and men and the `average of all employee wages` in the class.\n",
    "    \n",
    "### Questions that can be answered:\n",
    "\n",
    "    1. Number of men and women are there for a specific job title.\n",
    "    2. Comparison of the `average hourly pay rate` of men and women for a specific job title.\n",
    "    3. Jobs which do not have men presence and jobs which do not have women presence.\n",
    "    \n",
    "    "
   ]
  },
  {
   "cell_type": "code",
   "execution_count": null,
   "metadata": {},
   "outputs": [],
   "source": []
  }
 ],
 "metadata": {
  "kernelspec": {
   "display_name": "py36",
   "language": "python",
   "name": "myenv"
  },
  "language_info": {
   "codemirror_mode": {
    "name": "ipython",
    "version": 3
   },
   "file_extension": ".py",
   "mimetype": "text/x-python",
   "name": "python",
   "nbconvert_exporter": "python",
   "pygments_lexer": "ipython3",
   "version": "3.6.7"
  }
 },
 "nbformat": 4,
 "nbformat_minor": 2
}
