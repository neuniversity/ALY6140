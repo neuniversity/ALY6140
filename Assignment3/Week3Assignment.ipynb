{
 "cells": [
  {
   "cell_type": "markdown",
   "metadata": {},
   "source": [
    "# Assignment\n",
    "* Download the \"Assignment.ipynb\" notebook \n",
    "* Fill in the code in the cells marked with #GRADED#\n",
    "* Code cells outside of #GRADED# will not be considered for grading. \n",
    "  * Feel free to write outside of it for debugging\n",
    "* Submit the updated notebook\n",
    "  * Make sure to save your changes before submitting it"
   ]
  },
  {
   "cell_type": "code",
   "execution_count": 5,
   "metadata": {},
   "outputs": [],
   "source": [
    "#Import necessary libraries\n",
    "import pandas as pd\n",
    "import numpy as np"
   ]
  },
  {
   "cell_type": "code",
   "execution_count": 20,
   "metadata": {},
   "outputs": [
    {
     "name": "stdout",
     "output_type": "stream",
     "text": [
      "shape:  (3, 5)\n",
      "type:   int64\n",
      "Dimension:   2\n",
      "sum of element in arr:  105\n",
      "mean of element in arr:  7.0\n",
      "Array fill with zeros:  \n",
      " [[0. 0. 0. 0. 0.]\n",
      " [0. 0. 0. 0. 0.]\n",
      " [0. 0. 0. 0. 0.]]\n",
      "Array fill with ones:  \n",
      " [[1. 1. 1. 1. 1.]\n",
      " [1. 1. 1. 1. 1.]\n",
      " [1. 1. 1. 1. 1.]]\n",
      "Arr squared:  \n",
      " [[  0   1   4   9  16]\n",
      " [ 25  36  49  64  81]\n",
      " [100 121 144 169 196]]\n"
     ]
    }
   ],
   "source": [
    "### GRADED\n",
    "arr = np.arange(15).reshape(3, 5)\n",
    "\n",
    "# (a) Determine the shape, number of dimensions and type of \n",
    "# elements in the numpy array arr\n",
    "print(\"shape: \", arr.shape)\n",
    "print(\"type:  \" , arr.dtype)\n",
    "print(\"Dimension:  \", arr.ndim)\n",
    "\n",
    "\n",
    "# (b) Determine the sum of elements in arr\n",
    "print(\"sum of element in arr: \", np.sum([arr]))\n",
    "\n",
    "# (c) Determine the mean of elements in arr\n",
    "print(\"mean of element in arr: \", np.mean([arr]))\n",
    "\n",
    "# (d) Create an array of the same shape as arr but filled with zeros\n",
    "print(\"Array fill with zeros:  \"'\\n', np.zeros((3, 5)))\n",
    "\n",
    "# (e) Create an array of the same shape as arr but filled with ones\n",
    "print(\"Array fill with ones:  \"'\\n', np.ones((3, 5)))\n",
    "\n",
    "# (f) Create an array of the same shape as arr but where all elements are squared values\n",
    "print(\"Arr squared:  \"'\\n' , arr**2)\n",
    "\n",
    "\n",
    "\n",
    "\n"
   ]
  },
  {
   "cell_type": "code",
   "execution_count": 21,
   "metadata": {},
   "outputs": [
    {
     "name": "stdout",
     "output_type": "stream",
     "text": [
      "New array 3 x 3:  \n",
      " [[ 30  80 130]\n",
      " [ 80 255 430]\n",
      " [130 430 730]]\n"
     ]
    }
   ],
   "source": [
    "# (g) Create an array result of shape 3*3 resulting from multiplication of arr with transpose(arr). Hint: use np.dottr\n",
    "tranpose = np.transpose(arr)\n",
    "combi  = np.dot(arr, tranpose)\n",
    "\n",
    "print(\"New array 3 x 3:  \"'\\n', combi)"
   ]
  },
  {
   "cell_type": "code",
   "execution_count": 8,
   "metadata": {},
   "outputs": [
    {
     "name": "stdout",
     "output_type": "stream",
     "text": [
      "   sepal_length  sepal_width  petal_length  petal_width species\n",
      "0           5.1          3.5           1.4          0.2  setosa\n",
      "1           4.9          3.0           1.4          0.2  setosa\n",
      "2           4.7          3.2           1.3          0.2  setosa\n",
      "3           4.6          3.1           1.5          0.2  setosa\n",
      "4           5.0          3.6           1.4          0.2  setosa\n",
      "5           5.4          3.9           1.7          0.4  setosa\n",
      "6           4.6          3.4           1.4          0.3  setosa\n",
      "7           5.0          3.4           1.5          0.2  setosa\n",
      "8           4.4          2.9           1.4          0.2  setosa\n",
      "9           4.9          3.1           1.5          0.1  setosa\n",
      "Shape:   (150, 5)\n",
      " All columns of dataframe: Index(['sepal_length', 'sepal_width', 'petal_length', 'petal_width',\n",
      "       'species'],\n",
      "      dtype='object')\n"
     ]
    }
   ],
   "source": [
    "import pandas as pd\n",
    "df = pd.read_csv('https://raw.githubusercontent.com/mwaskom/seaborn-data/master/iris.csv')\n",
    "print (df.head(10)) #prints the first 10 rows\n",
    "\n",
    "### GRADED\n",
    "# The following piece of code creates a DataFrame \n",
    "# (a) Determine the shape of the dataframe\n",
    "shape = df.shape\n",
    "print(\"Shape:  \", shape)\n",
    "\n",
    "# (b) Print out all the columns of the dataframe\n",
    "Columns = df.columns\n",
    "print(\" All columns of dataframe:\", Columns)"
   ]
  },
  {
   "cell_type": "code",
   "execution_count": 9,
   "metadata": {},
   "outputs": [
    {
     "name": "stdout",
     "output_type": "stream",
     "text": [
      "3rd element of row:   sepal_length       4.6\n",
      "sepal_width        3.1\n",
      "petal_length       1.5\n",
      "petal_width        0.2\n",
      "species         setosa\n",
      "Name: 3, dtype: object\n",
      "3rd element of column:  0    0.2\n",
      "1    0.2\n",
      "2    0.2\n",
      "Name: petal_width, dtype: float64\n"
     ]
    }
   ],
   "source": [
    "# (c) Print the 3rd element of the dataframe\n",
    "Row = df.iloc[3,:]\n",
    "Column = df.iloc[:,3]\n",
    "print(\"3rd element of row:  \", Row)\n",
    "\n",
    "Top = Column.head(3)\n",
    "print(\"3rd element of column: \", Top)\n"
   ]
  },
  {
   "cell_type": "code",
   "execution_count": 10,
   "metadata": {},
   "outputs": [
    {
     "name": "stdout",
     "output_type": "stream",
     "text": [
      "Mean of petal_width:   2.026\n"
     ]
    }
   ],
   "source": [
    "# (d) Find the average of 'petal_width' where species is 'virginica'\n",
    "virgin = df.groupby('species').mean().loc['virginica','petal_width']\n",
    "print(\"Mean of petal_width:  \", virgin)\n"
   ]
  },
  {
   "cell_type": "code",
   "execution_count": 11,
   "metadata": {},
   "outputs": [
    {
     "name": "stdout",
     "output_type": "stream",
     "text": [
      "Maximum sepal width:   4.4\n"
     ]
    }
   ],
   "source": [
    "# (e) Find the maximum of 'sepal_width' where species is 'setosa'\n",
    "vir_max = df.groupby('species').max().loc['setosa', 'sepal_width']\n",
    "print(\"Maximum sepal width:  \", vir_max)"
   ]
  },
  {
   "cell_type": "code",
   "execution_count": 12,
   "metadata": {},
   "outputs": [
    {
     "name": "stdout",
     "output_type": "stream",
     "text": [
      "The average of Sepal length:   5.843333333333335\n"
     ]
    }
   ],
   "source": [
    "# (f): What is the average value of sepal_length\n",
    "Sepal_mean = df['sepal_length'].mean()\n",
    "print(\"The average of Sepal length:  \", Sepal_mean)"
   ]
  },
  {
   "cell_type": "code",
   "execution_count": 14,
   "metadata": {},
   "outputs": [
    {
     "name": "stdout",
     "output_type": "stream",
     "text": [
      "The maximum value of Sepal_max:   4.4\n"
     ]
    }
   ],
   "source": [
    "# (g): What is the maximum value of sepal_width\n",
    "Sepal_max = df['sepal_width'].max()\n",
    "print('The maximum value of Sepal_max:  ', Sepal_max)\n"
   ]
  },
  {
   "cell_type": "code",
   "execution_count": null,
   "metadata": {},
   "outputs": [],
   "source": [
    "# (h): What is the minimum value of petal_width"
   ]
  },
  {
   "cell_type": "code",
   "execution_count": 123,
   "metadata": {},
   "outputs": [
    {
     "name": "stdout",
     "output_type": "stream",
     "text": [
      "Minimum value of petal_width:   0.1\n"
     ]
    }
   ],
   "source": [
    "Sepal_min = df['petal_width'].min()\n",
    "print(\"Minimum value of petal_width:  \", Sepal_min)"
   ]
  },
  {
   "cell_type": "code",
   "execution_count": null,
   "metadata": {},
   "outputs": [],
   "source": [
    "\n"
   ]
  },
  {
   "cell_type": "markdown",
   "metadata": {
    "collapsed": true
   },
   "source": [
    "### GRADED: Getting started on the capstone project\n",
    "We will start working on our capstone project this week. For this week, the task consists of\n",
    "Finding a dataset of interest.\n",
    "    -You can use the links in the supplementary materials to help you find the dataset\n",
    "    -This dataset should be publicly accessible and available for download\n",
    "    -Should be of interest to the class\n",
    "    -The goal is to be askign and answering important questions about the data\n",
    "You can start with the following datasets or find your own\n",
    "### Open datasets\n",
    "          \n",
    "* Resources for open data\n",
    "  * https://data.boston.gov/\n",
    "  * https://www.data.gov/\n",
    "  * https://www.bls.gov/data/\n",
    "  * http://www.fao.org/statistics/databases/en/\n",
    "  * http://ec.europa.eu/eurostat/web/main\n",
    "  * https://github.com/awesomedata/awesome-public-datasets\n",
    "  * https://www.kdnuggets.com/2016/05/top-10-datasets-github.html\n",
    "  * https://www.quora.com/Where-can-I-find-large-datasets-open-to-the-public\n",
    "    \n",
    "### Questions\n",
    "\n",
    "* Q: Shortlist three datasets of interest\n",
    "* Q: For each dataset suggest describe the data (a few sentences) and questions that can be answered using that data (a few sentences)\n",
    "\n",
    "###1st (Europe transport database)\n",
    "### https://ec.europa.eu/eurostat/web/transport/overview\n",
    "Datasets (1) : Europe transport database\n",
    "    The database is about transportation database (train, airplanes, boats, trucks, cars) across europe. The database covers safety, infrastucture, equipment, traffic control, perfromance, and regional statistics. \n",
    "    I think this is good, because there are alot of information to be used in the reserachs.\n",
    "    \n",
    "Questions:\n",
    "    1. Which transportation among the other has the highest safety rating?\n",
    "    2. How to decrease traffic by using boats, train, bus, taxi.\n",
    "    3. Which public transportation is more popular to public?\n",
    "    4. Numbers of people and goods being transport.  \n",
    "    \n",
    "### 2nd (Boston: Property Assesment)\n",
    "## hhttps://data.boston.gov/dataset/property-assessment/resource/fd351943-c2c6-4630-992d-3f895360febd\n",
    "\n",
    "Datasets (2): Boston, Property Assesment\n",
    "    The database is about property assesment in boston area. The database gives a preview of each property background.\n",
    "    \n",
    "Questions:\n",
    "    1. Which property area have the largest total area (building & land) ?\n",
    "    2. How many house was build in early 1980 and was bought after 2004.\n",
    "    3. How many house have ore than 1 floor, and what is the average of house with 1 floor, 2 floor 3 floor?\n",
    "    4. How many house have been remodel from scratch?\n",
    "    \n",
    "## 3rd (Agricultural: World agricultural data)\n",
    "## Sources : http://statistics.amis-outlook.org/data/index.html\n",
    "\n",
    "Datasets (3): Agricultural database\n",
    "    The database shows agricultural database per year of specific country cover by AMIS. The databae covers production, domestic supply, domestic utilization, exports, imports, and closing stocks.\n",
    "    \n",
    "    Questions:\n",
    "        1. Which agricultural performance has the highest between North America and Indonesia?\n",
    "        2. What agriculture increase production rate of the countries?\n",
    "        3. What product is famous among countries?\n",
    "        4. Who are in the top 3 highest emport and export?\n",
    "\n"
   ]
  },
  {
   "cell_type": "code",
   "execution_count": null,
   "metadata": {},
   "outputs": [],
   "source": [
    "\n",
    "    "
   ]
  },
  {
   "cell_type": "code",
   "execution_count": null,
   "metadata": {},
   "outputs": [],
   "source": []
  }
 ],
 "metadata": {
  "kernelspec": {
   "display_name": "Python 3",
   "language": "python",
   "name": "python3"
  },
  "language_info": {
   "codemirror_mode": {
    "name": "ipython",
    "version": 3
   },
   "file_extension": ".py",
   "mimetype": "text/x-python",
   "name": "python",
   "nbconvert_exporter": "python",
   "pygments_lexer": "ipython3",
   "version": "3.7.0"
  }
 },
 "nbformat": 4,
 "nbformat_minor": 2
}
