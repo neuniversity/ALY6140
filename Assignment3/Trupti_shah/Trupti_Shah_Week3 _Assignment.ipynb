{
 "cells": [
  {
   "cell_type": "markdown",
   "metadata": {},
   "source": [
    "# Assignment\n",
    "* Download the \"Assignment.ipynb\" notebook \n",
    "* Fill in the code in the cells marked with #GRADED#\n",
    "* Code cells outside of #GRADED# will not be considered for grading. \n",
    "  * Feel free to write outside of it for debugging\n",
    "* Submit the updated notebook\n",
    "  * Make sure to save your changes before submitting it"
   ]
  },
  {
   "cell_type": "code",
   "execution_count": 6,
   "metadata": {},
   "outputs": [],
   "source": [
    "#Import necessary libraries\n",
    "import pandas as pd\n",
    "import numpy as np"
   ]
  },
  {
   "cell_type": "markdown",
   "metadata": {},
   "source": [
    "### Part 1: Array"
   ]
  },
  {
   "cell_type": "code",
   "execution_count": 7,
   "metadata": {},
   "outputs": [
    {
     "name": "stdout",
     "output_type": "stream",
     "text": [
      "[[ 0  1  2  3  4]\n",
      " [ 5  6  7  8  9]\n",
      " [10 11 12 13 14]]\n"
     ]
    }
   ],
   "source": [
    "# The following piece of code creates a Array\n",
    "arr = np.arange(15).reshape(3, 5)\n",
    "print(arr)"
   ]
  },
  {
   "cell_type": "code",
   "execution_count": 14,
   "metadata": {},
   "outputs": [
    {
     "name": "stdout",
     "output_type": "stream",
     "text": [
      "Shape of array: (3, 5)\n",
      "Number of Dimensions: 2 , having 3 rows and 5 columns\n",
      "Type of elements: int64\n"
     ]
    }
   ],
   "source": [
    "# (a) Determine the shape, number of dimensions and type of elements in the numpy array arr\n",
    "\n",
    "print('Shape of array:', arr.shape)\n",
    "row, col = arr.shape\n",
    "print('Number of Dimensions:', arr.ndim ,', having', row, \"rows and\", col, 'columns' )\n",
    "print('Type of elements:', arr.dtype)"
   ]
  },
  {
   "cell_type": "code",
   "execution_count": 4,
   "metadata": {},
   "outputs": [
    {
     "name": "stdout",
     "output_type": "stream",
     "text": [
      "Sum of all elements: 105\n",
      "Sum of column elements: [15 18 21 24 27]\n",
      "Sum of row elements: [10 35 60]\n"
     ]
    }
   ],
   "source": [
    "# (b) Determine the sum of elements in arr\n",
    "\n",
    "print('Sum of all elements:', np.sum(arr))\n",
    "print('Sum of column elements:', np.sum(arr, axis=0))\n",
    "print('Sum of row elements:', np.sum(arr, axis=1))"
   ]
  },
  {
   "cell_type": "code",
   "execution_count": 5,
   "metadata": {},
   "outputs": [
    {
     "name": "stdout",
     "output_type": "stream",
     "text": [
      "Mean of all elements: 7.0\n",
      "Mean of column elements: [5. 6. 7. 8. 9.]\n",
      "Sum of row elements: [ 2.  7. 12.]\n"
     ]
    }
   ],
   "source": [
    "# (c) Determine the mean of elements in arr\n",
    "\n",
    "print('Mean of all elements:', np.mean(arr))\n",
    "print('Mean of column elements:', np.mean(arr, axis=0))\n",
    "print('Sum of row elements:', np.mean(arr, axis=1))"
   ]
  },
  {
   "cell_type": "code",
   "execution_count": 6,
   "metadata": {},
   "outputs": [
    {
     "name": "stdout",
     "output_type": "stream",
     "text": [
      "Arr filled with zeros:\n",
      "[[0. 0. 0. 0. 0.]\n",
      " [0. 0. 0. 0. 0.]\n",
      " [0. 0. 0. 0. 0.]]\n"
     ]
    }
   ],
   "source": [
    "# (d) Create an array of the same shape as arr but filled with zeros\n",
    "\n",
    "arr_zero = np.zeros(15).reshape(3, 5)\n",
    "print('Arr filled with zeros:')\n",
    "print(arr_zero)"
   ]
  },
  {
   "cell_type": "code",
   "execution_count": 8,
   "metadata": {},
   "outputs": [
    {
     "name": "stdout",
     "output_type": "stream",
     "text": [
      "Arr filled with ones:\n",
      "[[1. 1. 1. 1. 1.]\n",
      " [1. 1. 1. 1. 1.]\n",
      " [1. 1. 1. 1. 1.]]\n"
     ]
    }
   ],
   "source": [
    "# (e) Create an array of the same shape as arr but filled with ones\n",
    "\n",
    "arr_zero = np.ones(15).reshape(3, 5)\n",
    "print('Arr filled with ones:')\n",
    "print(arr_zero)"
   ]
  },
  {
   "cell_type": "code",
   "execution_count": 15,
   "metadata": {},
   "outputs": [
    {
     "name": "stdout",
     "output_type": "stream",
     "text": [
      "Arr with its Squared values:\n",
      "[[  0   1   4   9  16]\n",
      " [ 25  36  49  64  81]\n",
      " [100 121 144 169 196]]\n"
     ]
    }
   ],
   "source": [
    "# (f) Create an array of the same shape as arr but where all elements are squared values\n",
    "\n",
    "arr_square = arr ** 2\n",
    "print('Arr with its Squared values:')\n",
    "print(arr_square)"
   ]
  },
  {
   "cell_type": "code",
   "execution_count": 37,
   "metadata": {},
   "outputs": [
    {
     "name": "stdout",
     "output_type": "stream",
     "text": [
      "Multiplication of arr with its transpose:\n",
      "[[ 30  80 130]\n",
      " [ 80 255 430]\n",
      " [130 430 730]]\n",
      "Shape of new array: (3, 3)\n"
     ]
    }
   ],
   "source": [
    "# (g) Create an array result of shape 3*3 resulting from multiplication of arr with transpose(arr). Hint: use np.dot\n",
    "\n",
    "#creating transpose of arr\n",
    "arr_t = np.transpose(arr) \n",
    "arr_mul = np.dot(arr, arr_t) #multiplyting arr(3*5) with its transpose(5*3)\n",
    "\n",
    "# We should get new array with 3 rows & 3 columns\n",
    "print('Multiplication of arr with its transpose:')\n",
    "print(arr_mul)\n",
    "print('Shape of new array:', arr_mul.shape)"
   ]
  },
  {
   "cell_type": "markdown",
   "metadata": {},
   "source": [
    "### Part 2: Dataframe"
   ]
  },
  {
   "cell_type": "code",
   "execution_count": 38,
   "metadata": {},
   "outputs": [
    {
     "name": "stdout",
     "output_type": "stream",
     "text": [
      "   sepal_length  sepal_width  petal_length  petal_width species\n",
      "0           5.1          3.5           1.4          0.2  setosa\n",
      "1           4.9          3.0           1.4          0.2  setosa\n",
      "2           4.7          3.2           1.3          0.2  setosa\n",
      "3           4.6          3.1           1.5          0.2  setosa\n",
      "4           5.0          3.6           1.4          0.2  setosa\n",
      "5           5.4          3.9           1.7          0.4  setosa\n",
      "6           4.6          3.4           1.4          0.3  setosa\n",
      "7           5.0          3.4           1.5          0.2  setosa\n",
      "8           4.4          2.9           1.4          0.2  setosa\n",
      "9           4.9          3.1           1.5          0.1  setosa\n"
     ]
    }
   ],
   "source": [
    "# The following piece of code creates a DataFrame \n",
    "\n",
    "import pandas as pd\n",
    "df = pd.read_csv('https://raw.githubusercontent.com/mwaskom/seaborn-data/master/iris.csv')\n",
    "print(df.head(10)) #prints the first 10 rows"
   ]
  },
  {
   "cell_type": "code",
   "execution_count": 39,
   "metadata": {},
   "outputs": [
    {
     "name": "stdout",
     "output_type": "stream",
     "text": [
      "Shape of dataframe: (150, 5)\n"
     ]
    }
   ],
   "source": [
    "# (a) Determine the shape of the dataframe\n",
    "\n",
    "print('Shape of dataframe:', df.shape)"
   ]
  },
  {
   "cell_type": "code",
   "execution_count": 40,
   "metadata": {},
   "outputs": [
    {
     "name": "stdout",
     "output_type": "stream",
     "text": [
      "Columns: ['sepal_length', 'sepal_width', 'petal_length', 'petal_width', 'species']\n"
     ]
    }
   ],
   "source": [
    "# (b) Print out all the columns of the dataframe\n",
    "\n",
    "print('Columns:',list(df))"
   ]
  },
  {
   "cell_type": "code",
   "execution_count": 53,
   "metadata": {},
   "outputs": [
    {
     "name": "stdout",
     "output_type": "stream",
     "text": [
      "Assuming 3rd element as 3rd column: (top 3 values)\n",
      "0    1.4\n",
      "1    1.4\n",
      "2    1.3\n",
      "Name: petal_length, dtype: float64\n",
      "Assuming 3rd element as 3rd row: (top 3 values)\n",
      "sepal_length       4.7\n",
      "sepal_width        3.2\n",
      "petal_length       1.3\n",
      "petal_width        0.2\n",
      "species         setosa\n",
      "Name: 2, dtype: object\n",
      "Assuming the element located at 3rd row & 3rd column:\n",
      "1.3\n"
     ]
    }
   ],
   "source": [
    "# (c) Print the 3rd element of the dataframe\n",
    "\n",
    "# assuming 3rd element as 3rd column\n",
    "ecol = df.iloc[:, 2]\n",
    "print('Assuming 3rd element as 3rd column: (top 3 values)')\n",
    "print(ecol.head(3))\n",
    "\n",
    "#assuming 3rd element as 3rd row\n",
    "erow = df.iloc [2, :]\n",
    "print('Assuming 3rd element as 3rd row: (top 3 values)')\n",
    "print(erow)\n",
    "\n",
    "# assuming the element located at 3rd row & 3rd column\n",
    "element = df.iloc [2, 2]\n",
    "print('Assuming the element located at 3rd row & 3rd column:')\n",
    "print(element)"
   ]
  },
  {
   "cell_type": "code",
   "execution_count": 70,
   "metadata": {},
   "outputs": [
    {
     "name": "stdout",
     "output_type": "stream",
     "text": [
      "Average petal_width for virginica: 2.026\n",
      "Average petal_width for virginica: 2.026\n"
     ]
    }
   ],
   "source": [
    "# (d) Find the average of 'petal_width' where species is 'virginica'\n",
    "\n",
    "# without using groupby\n",
    "vir = df.loc[df['species'] == 'virginica']\n",
    "vir_pw = vir['petal_width'].mean()\n",
    "print('Average petal_width for virginica:',vir_pw)\n",
    "\n",
    "# using groupby\n",
    "vpw = df.groupby('species').mean().loc['virginica','petal_width']\n",
    "print('Average petal_width for virginica:',vpw)"
   ]
  },
  {
   "cell_type": "code",
   "execution_count": 71,
   "metadata": {},
   "outputs": [
    {
     "name": "stdout",
     "output_type": "stream",
     "text": [
      "Maximum sepal_width for setosa: 4.4\n"
     ]
    }
   ],
   "source": [
    "# (e) Find the maximum of 'sepal_width' where species is 'setosa'\n",
    "\n",
    "sws = df.groupby('species').max().loc['setosa','sepal_width']\n",
    "print('Maximum sepal_width for setosa:',sws)"
   ]
  },
  {
   "cell_type": "code",
   "execution_count": 72,
   "metadata": {},
   "outputs": [
    {
     "name": "stdout",
     "output_type": "stream",
     "text": [
      "Average of sepal_length: 5.8433\n"
     ]
    }
   ],
   "source": [
    "# (f): What is the average value of sepal_length\n",
    "\n",
    "print('Average of sepal_length:', round(df['sepal_length'].mean(),4))"
   ]
  },
  {
   "cell_type": "code",
   "execution_count": 76,
   "metadata": {},
   "outputs": [
    {
     "name": "stdout",
     "output_type": "stream",
     "text": [
      "Maximum of sepal_width: 4.4\n"
     ]
    }
   ],
   "source": [
    "# (g): What is the maximum value of sepal_width\n",
    "\n",
    "print('Maximum of sepal_width:', round(df['sepal_width'].max(),4))"
   ]
  },
  {
   "cell_type": "code",
   "execution_count": 77,
   "metadata": {},
   "outputs": [
    {
     "name": "stdout",
     "output_type": "stream",
     "text": [
      "Minimum of petal_width: 0.1\n"
     ]
    }
   ],
   "source": [
    "# (h): What is the minimum value of petal_width\n",
    "\n",
    "print('Minimum of petal_width:', round(df['petal_width'].min(),4))"
   ]
  },
  {
   "cell_type": "markdown",
   "metadata": {
    "collapsed": true
   },
   "source": [
    "### Getting started on the capstone project\n",
    "We will start working on our capstone project this week. For this week, the task consists of\n",
    "Finding a dataset of interest.\n",
    "    -You can use the links in the supplementary materials to help you find the dataset\n",
    "    -This dataset should be publicly accessible and available for download\n",
    "    -Should be of interest to the class\n",
    "    -The goal is to be askign and answering important questions about the data\n",
    "You can start with the following datasets or find your own\n",
    "### Open datasets\n",
    "          \n",
    "* Resources for open data\n",
    "  * https://data.boston.gov/\n",
    "  * https://www.data.gov/\n",
    "  * https://www.bls.gov/data/\n",
    "  * http://www.fao.org/statistics/databases/en/\n",
    "  * http://ec.europa.eu/eurostat/web/main\n",
    "  * https://github.com/awesomedata/awesome-public-datasets\n",
    "  * https://www.kdnuggets.com/2016/05/top-10-datasets-github.html\n",
    "  * https://www.quora.com/Where-can-I-find-large-datasets-open-to-the-public\n",
    "    \n",
    "### Questions\n",
    "\n",
    "* Q: Shortlist three datasets of interest\n",
    "* Q: For each dataset suggest describe the data (a few sentences) and questions that can be answered using that data (a few sentences)\n"
   ]
  },
  {
   "cell_type": "markdown",
   "metadata": {
    "collapsed": true
   },
   "source": [
    "### Dataset 1\n",
    "\n",
    "**Current Employee Names, Salaries, and Position Titles in Chicago -**\n",
    "\n",
    "This dataset is a listing of all current City of Chicago employees, complete with full names, departments, positions, employment status (part-time or full-time), frequency of hourly employee –where applicable—and annual salaries or hourly rate.\n",
    "\n",
    "**Questions that can be answered:**\n",
    "1. Which department has the highest number of employees in Chicago.\n",
    "2. What is the maximum and minimum salaries for each department.\n",
    "3. Number of full time & part time employees in each department.\n",
    "4. Distribution of average salaries based on department (Visualization)."
   ]
  },
  {
   "cell_type": "markdown",
   "metadata": {},
   "source": [
    "### Dataset 2\n",
    "\n",
    "**Employee Earnings Report 2017-Boston**\n",
    "\n",
    "Each year, the City of Boston publishes payroll data for employees. This dataset contains employee names, job details, and earnings information including base salary, overtime, and total compensation for employees of the City.\n",
    "\n",
    "**Questions that can be answered:**\n",
    " 1. Department wise regular, injured, overtime and bonus earnings in Boston.\n",
    " 2. What is the department wise total earnings.\n",
    " 3. Which is the most earning department in Boston.\n",
    " 4. Department/ Title wise earning trend of the employees."
   ]
  },
  {
   "cell_type": "markdown",
   "metadata": {},
   "source": [
    "### Dataset 3\n",
    "\n",
    "**Crimes - One year prior to present in Chicago**\n",
    "\n",
    "This dataset reflects reported incidents of crime (with the exception of murders where data exists for each victim) that have occurred in the City of Chicago over the past year, minus the most recent seven days of data. Data is extracted from the Chicago Police Department's CLEAR (Citizen Law Enforcement Analysis and Reporting) system.\n",
    "\n",
    "\n",
    "**Questions that can be answered:**\n",
    " 1. Time(Month) of the year when maximum crime was observed in last one year.\n",
    " 2. Location where maximum crimes took place.\n",
    " 3. Number of Domestic or non-domestic crimes. If Domestic, then which type of crime was majorly observed and same for non-domestic crime.\n",
    " 4. What was the count of arrests per month by the police department?\n",
    "    "
   ]
  },
  {
   "cell_type": "code",
   "execution_count": null,
   "metadata": {},
   "outputs": [],
   "source": []
  }
 ],
 "metadata": {
  "kernelspec": {
   "display_name": "Python 3",
   "language": "python",
   "name": "python3"
  },
  "language_info": {
   "codemirror_mode": {
    "name": "ipython",
    "version": 3
   },
   "file_extension": ".py",
   "mimetype": "text/x-python",
   "name": "python",
   "nbconvert_exporter": "python",
   "pygments_lexer": "ipython3",
   "version": "3.7.0"
  }
 },
 "nbformat": 4,
 "nbformat_minor": 2
}
