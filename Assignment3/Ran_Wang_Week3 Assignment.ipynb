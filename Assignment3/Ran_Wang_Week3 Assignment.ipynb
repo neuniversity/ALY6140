{
 "cells": [
  {
   "cell_type": "markdown",
   "metadata": {},
   "source": [
    "# Assignment\n",
    "* Download the \"Assignment.ipynb\" notebook \n",
    "* Fill in the code in the cells marked with #GRADED#\n",
    "* Code cells outside of #GRADED# will not be considered for grading. \n",
    "  * Feel free to write outside of it for debugging\n",
    "* Submit the updated notebook\n",
    "  * Make sure to save your changes before submitting it"
   ]
  },
  {
   "cell_type": "code",
   "execution_count": 4,
   "metadata": {},
   "outputs": [],
   "source": [
    "#Import necessary libraries\n",
    "import pandas as pd\n",
    "import numpy as np"
   ]
  },
  {
   "cell_type": "code",
   "execution_count": 54,
   "metadata": {},
   "outputs": [
    {
     "name": "stdout",
     "output_type": "stream",
     "text": [
      "shape:  (3, 5)\n",
      "type:   int64\n",
      "Dimension:   2\n",
      "sum of element in arr:  105\n",
      "mean of element in arr:  7.0\n",
      "Array fill with zeros:  \n",
      " [[0. 0. 0. 0. 0.]\n",
      " [0. 0. 0. 0. 0.]\n",
      " [0. 0. 0. 0. 0.]]\n",
      "Array fill with ones:  \n",
      " [[1. 1. 1. 1. 1.]\n",
      " [1. 1. 1. 1. 1.]\n",
      " [1. 1. 1. 1. 1.]]\n",
      "Arr squared:  \n",
      " [[  0   1   4   9  16]\n",
      " [ 25  36  49  64  81]\n",
      " [100 121 144 169 196]]\n",
      "New array 3 x 3:  \n",
      " [[ 30  80 130]\n",
      " [ 80 255 430]\n",
      " [130 430 730]]\n"
     ]
    }
   ],
   "source": [
    "### GRADED\n",
    "arr = np.arange(15).reshape(3, 5)\n",
    "\n",
    "# (a) Determine the shape, number of dimensions and type of \n",
    "# elements in the numpy array arr\n",
    "print(\"shape: \", arr.shape)\n",
    "print(\"type:  \" , arr.dtype)\n",
    "print(\"Dimension:  \", arr.ndim)\n",
    "\n",
    "# (b) Determine the sum of elements in arr\n",
    "print(\"sum of element in arr: \", np.sum([arr]))\n",
    "\n",
    "# (c) Determine the mean of elements in arr\n",
    "print(\"mean of element in arr: \", np.mean([arr]))\n",
    "\n",
    "# (d) Create an array of the same shape as arr but filled with zeros\n",
    "print(\"Array fill with zeros:  \"'\\n', np.zeros((3, 5)))\n",
    "\n",
    "# (e) Create an array of the same shape as arr but filled with ones\n",
    "print(\"Array fill with ones:  \"'\\n', np.ones((3, 5)))\n",
    "\n",
    "# (f) Create an array of the same shape as arr but where all elements are squared values\n",
    "print(\"Arr squared:  \"'\\n' , arr**2)\n",
    "\n",
    "# (g) Create an array result of shape 3*3 resulting from multiplication of arr with transpose(arr). Hint: use np.dot\n",
    "print(\"New array 3 x 3:  \"'\\n', np.dot(arr, np.transpose(arr)))"
   ]
  },
  {
   "cell_type": "code",
   "execution_count": 57,
   "metadata": {},
   "outputs": [
    {
     "name": "stdout",
     "output_type": "stream",
     "text": [
      "   sepal_length  sepal_width  petal_length  petal_width species\n",
      "0           5.1          3.5           1.4          0.2  setosa\n",
      "1           4.9          3.0           1.4          0.2  setosa\n",
      "2           4.7          3.2           1.3          0.2  setosa\n",
      "3           4.6          3.1           1.5          0.2  setosa\n",
      "4           5.0          3.6           1.4          0.2  setosa\n",
      "5           5.4          3.9           1.7          0.4  setosa\n",
      "6           4.6          3.4           1.4          0.3  setosa\n",
      "7           5.0          3.4           1.5          0.2  setosa\n",
      "8           4.4          2.9           1.4          0.2  setosa\n",
      "9           4.9          3.1           1.5          0.1  setosa\n",
      "Shape:  (150, 5)\n",
      "All columns of the dataframe: \n",
      " ['sepal_length', 'sepal_width', 'petal_length', 'petal_width', 'species']\n",
      "the 3rd element of row: \n",
      " sepal_length       4.7\n",
      "sepal_width        3.2\n",
      "petal_length       1.3\n",
      "petal_width        0.2\n",
      "species         setosa\n",
      "Name: 2, dtype: object\n",
      "the 3rd element of column: \n",
      " 0    1.4\n",
      "1    1.4\n",
      "Name: petal_length, dtype: float64\n",
      "Mean of petal_width: \n",
      " 2.026\n",
      "Maximum sepal width: \n",
      " 4.4\n",
      "The average of Sepal length:  \n",
      " 5.843333333333335\n",
      "The maximum value of Sepal_max:  \n",
      " 4.4\n",
      "Minimum value of petal_width:  \n",
      " 0.1\n"
     ]
    }
   ],
   "source": [
    "import pandas as pd\n",
    "df = pd.read_csv('https://raw.githubusercontent.com/mwaskom/seaborn-data/master/iris.csv')\n",
    "print(df.head(10)) #prints the first 10 rows\n",
    "\n",
    "### GRADED\n",
    "# (a) Determine the shape of the dataframe\n",
    "print(\"Shape: \", df.shape)\n",
    "\n",
    "# (b) Print out all the columns of the dataframe\n",
    "column = list(df.head(0))\n",
    "print(\"All columns of the dataframe:\" ,'\\n', column)\n",
    "\n",
    "# (c) Print the 3rd element of the dataframe\n",
    "Row = df.iloc[2,:]\n",
    "Column = df.iloc[:,2]\n",
    "print(\"the 3rd element of row:\" , '\\n', Row) \n",
    "print(\"the 3rd element of column:\" , '\\n', Column.head(2)) \n",
    "\n",
    "# (d) Find the average of 'petal_width' where species is 'virginica'\n",
    "print(\"Mean of petal_width:\" ,'\\n', df[df['species']=='virginica']['petal_width'].mean())\n",
    "\n",
    "# (e) Find the maximum of 'sepal_width' where species is 'setosa'\n",
    "print(\"Maximum sepal width:\" ,'\\n', df[df['species']=='setosa']['sepal_width'].max())\n",
    "\n",
    "# (f): What is the average value of sepal_length\n",
    "print(\"The average of Sepal length: \",'\\n', df['sepal_length'].mean())\n",
    "\n",
    "# (g): What is the maximum value of sepal_width\n",
    "print(\"The maximum value of Sepal_max: \",'\\n', df['sepal_width'].max())\n",
    "\n",
    "# (h): What is the minimum value of petal_width\n",
    "print(\"Minimum value of petal_width: \",'\\n', df['petal_width'].min())\n"
   ]
  },
  {
   "cell_type": "code",
   "execution_count": null,
   "metadata": {},
   "outputs": [],
   "source": []
  },
  {
   "cell_type": "markdown",
   "metadata": {
    "collapsed": true
   },
   "source": [
    "### GRADED: Getting started on the capstone project\n",
    "We will start working on our capstone project this week. For this week, the task consists of\n",
    "Finding a dataset of interest.\n",
    "    -You can use the links in the supplementary materials to help you find the dataset\n",
    "    -This dataset should be publicly accessible and available for download\n",
    "    -Should be of interest to the class\n",
    "    -The goal is to be askign and answering important questions about the data\n",
    "You can start with the following datasets or find your own\n",
    "### Open datasets\n",
    "          \n",
    "* Resources for open data\n",
    "  * https://data.boston.gov/\n",
    "  * https://www.data.gov/\n",
    "  * https://www.bls.gov/data/\n",
    "  * http://www.fao.org/statistics/databases/en/\n",
    "  * http://ec.europa.eu/eurostat/web/main\n",
    "  * https://github.com/awesomedata/awesome-public-datasets\n",
    "  * https://www.kdnuggets.com/2016/05/top-10-datasets-github.html\n",
    "  * https://www.quora.com/Where-can-I-find-large-datasets-open-to-the-public\n",
    "    \n",
    "### Questions\n",
    "\n",
    "* Q: Shortlist three datasets of interest\n",
    "* Q: For each dataset suggest describe the data (a few sentences) and questions that can be answered using that data (a few sentences)\n"
   ]
  },
  {
   "cell_type": "markdown",
   "metadata": {
    "collapsed": true
   },
   "source": [
    "1st (Bureau of Labor Statistics)\n",
    "https://www.bls.gov/data/#employment\n",
    "Datasets (1) :The database is about labor statistics from the United States Department of Labor. The database covers Employment, Productity, Price Index and Compensation.\n",
    "Questions:\n",
    "1. Which occupation and area are in the top 3 highest wage paying?\n",
    "2. What is the labor force employment overview in the United States?\n",
    "3. What occupation increase employment rate of the countries?\n",
    "\n",
    "2nd (Marine Casualty Pollution Investigations)\n",
    "https://homeport.uscg.mil/missions/investigations/marine-casualty-pollution-investigations\n",
    "Datatset (2) :The Marine Casualty and Pollution Data files provide details about marine casualty and pollution incidents investigated by Coast Guard Offices throughout the United States. The database can be used to analyze marine accidents and pollution incidents by a variety of factors including vessel or facility type, injuries, fatalities, pollutant details, location, and date.  The data collection period began in 1982 for marine casualties and 1973 for polluting incidents, and is ongoing. Documentation includes entity and attribute descriptions along with suggested solutions to general marine pollution, vessel casualty, and personnel injury and death questions\n",
    "Questions:\n",
    "1. What is the U.S. Coast Guard Marine Casualty?\n",
    "2. How to prevent from general marine pollution?\n",
    "2. How to decrease personnel injury and death?\n",
    "\n",
    "3rd (U.S. Government Education database)\n",
    "https://catalog.data.gov/dataset?groups=education2168&_groups_limit=0\n",
    "Datasets (3) : U.S. Government Education database is about education database across the United States. The database covers tuitions, national student loan, crime and safety, college scorecard and America Community Survey. I can use the College Scorecard to find out more about a college's affordability and value so they can make more informed decisions about which college to attend.\n",
    "Questions:\n",
    "1. Which college is famous among the United States?\n",
    "2. Which state can provide the highest rate of national student loan?\n",
    "3. Who are in the top 3 safety campus?\n"
   ]
  }
 ],
 "metadata": {
  "kernelspec": {
   "display_name": "Python 3",
   "language": "python",
   "name": "python3"
  },
  "language_info": {
   "codemirror_mode": {
    "name": "ipython",
    "version": 3
   },
   "file_extension": ".py",
   "mimetype": "text/x-python",
   "name": "python",
   "nbconvert_exporter": "python",
   "pygments_lexer": "ipython3",
   "version": "3.7.0"
  }
 },
 "nbformat": 4,
 "nbformat_minor": 2
}
