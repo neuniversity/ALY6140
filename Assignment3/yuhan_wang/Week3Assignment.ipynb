{
 "cells": [
  {
   "cell_type": "markdown",
   "metadata": {},
   "source": [
    "# Assignment\n",
    "* Download the \"Assignment.ipynb\" notebook \n",
    "* Fill in the code in the cells marked with #GRADED#\n",
    "* Code cells outside of #GRADED# will not be considered for grading. \n",
    "  * Feel free to write outside of it for debugging\n",
    "* Submit the updated notebook\n",
    "  * Make sure to save your changes before submitting it"
   ]
  },
  {
   "cell_type": "code",
   "execution_count": 1,
   "metadata": {},
   "outputs": [],
   "source": [
    "#Import necessary libraries\n",
    "import pandas as pd\n",
    "import numpy as np"
   ]
  },
  {
   "cell_type": "code",
   "execution_count": 120,
   "metadata": {},
   "outputs": [
    {
     "name": "stdout",
     "output_type": "stream",
     "text": [
      "(a) Shape of the array:  (3, 5) (Dimensions: 3 rows, 5 columns)\n",
      "(b) Sum of elements:  105\n",
      "(c) Mean of elements:  7.0\n",
      "(d) Array filled with zeros:  \n",
      " [[0. 0. 0. 0. 0.]\n",
      " [0. 0. 0. 0. 0.]\n",
      " [0. 0. 0. 0. 0.]]\n",
      "(e) Array filled with ones:  \n",
      " [[1. 1. 1. 1. 1.]\n",
      " [1. 1. 1. 1. 1.]\n",
      " [1. 1. 1. 1. 1.]]\n",
      "(f) Array filled with squared values:  \n",
      " [[  0   1   4   9  16]\n",
      " [ 25  36  49  64  81]\n",
      " [100 121 144 169 196]]\n",
      "(g) New matrix:  \n",
      " [[ 30  80 130]\n",
      " [ 80 255 430]\n",
      " [130 430 730]]\n"
     ]
    }
   ],
   "source": [
    "### GRADED\n",
    "# (a) Determine the shape, number of dimensions and type of \n",
    "# elements in the numpy array arr\n",
    "# (b) Determine the sum of elements in arr\n",
    "# (c) Determine the mean of elements in arr\n",
    "# (d) Create an array of the same shape as arr but filled with zeros\n",
    "# (e) Create an array of the same shape as arr but filled with ones\n",
    "# (f) Create an array of the same shape as arr but where all elements are squared values\n",
    "# (g) Create an array result of shape 3*3 resulting from multiplication of arr with transpose(arr). Hint: use np.dot\n",
    "arr = np.arange(15).reshape(3, 5)\n",
    "\n",
    "# (a)\n",
    "row, column = arr.shape\n",
    "print (\"(a) Shape of the array: \", arr.shape, \"(Dimensions:\", row, \"rows,\", column, \"columns)\") \n",
    "\n",
    "# (b)\n",
    "print (\"(b) Sum of elements: \", arr.sum())\n",
    "\n",
    "# (c)\n",
    "print (\"(c) Mean of elements: \", arr.mean())\n",
    "\n",
    "#( d)\n",
    "zeros = np.zeros((3,5)) #a 2d array with 3 rows and 5 columns\n",
    "print (\"(d) Array filled with zeros: \",'\\n',zeros)\n",
    "\n",
    "# (e)\n",
    "## the array can be created by numpy function\n",
    "ones_1 = np.ones((3,5)) \n",
    "## Or use a for loop \n",
    "ones_2 = []\n",
    "for i in range(15):\n",
    "        ones_2.append(1.0)\n",
    "ones_2 = np.array(ones_2).reshape(3,5)\n",
    "print (\"(e) Array filled with ones: \",'\\n',ones_2) \n",
    "\n",
    "# (f)\n",
    "## the type of array accepts the basic math functions, such as add, subtract, multiply, and divide\n",
    "sqr = arr **2 \n",
    "print (\"(f) Array filled with squared values: \",'\\n',sqr)\n",
    "\n",
    "# (g)\n",
    "matrix = np.dot(arr, arr.T)\n",
    "print (\"(g) New matrix: \",'\\n',matrix) #multiply the 3x5 matrix and 5x3 matrix"
   ]
  },
  {
   "cell_type": "code",
   "execution_count": 121,
   "metadata": {},
   "outputs": [
    {
     "data": {
      "text/plain": [
       "array([[ 0,  1,  2,  3,  4],\n",
       "       [ 5,  6,  7,  8,  9],\n",
       "       [10, 11, 12, 13, 14]])"
      ]
     },
     "execution_count": 121,
     "metadata": {},
     "output_type": "execute_result"
    }
   ],
   "source": [
    "arr"
   ]
  },
  {
   "cell_type": "code",
   "execution_count": 122,
   "metadata": {},
   "outputs": [
    {
     "name": "stdout",
     "output_type": "stream",
     "text": [
      "(a) Shape:  (150, 5)\n",
      "(b) Columns:  ['sepal_length' 'sepal_width' 'petal_length' 'petal_width' 'species']\n",
      "(c) 3rd element (first 5 rows only):  \n",
      " 0    1.4\n",
      "1    1.4\n",
      "2    1.3\n",
      "3    1.5\n",
      "4    1.4\n",
      "Name: petal_length, dtype: float64\n",
      "(d) Average of petal width for virginica iris: 2.0260\n",
      "(e) Maximum of sepal width for setosa iris: 4.40\n",
      "(f) Average value of sepal length: 5.8433\n",
      "(g) Maximum value of sepal width: 4.4000\n",
      "(g) Minimum value of petal width: 0.1000\n"
     ]
    }
   ],
   "source": [
    "### GRADED\n",
    "# The following piece of code creates a DataFrame \n",
    "# (a) Determine the shape of the dataframe\n",
    "# (b) Print out all the columns of the dataframe\n",
    "# (c) Print the 3rd element of the dataframe\n",
    "# (d) Find the average of 'petal_width' where species is 'virginica'\n",
    "# (e) Find the maximum of 'sepal_width' where species is 'setosa'\n",
    "# (f): What is the average value of sepal_length\n",
    "# (g): What is the maximum value of sepal_width\n",
    "# (h): What is the minimum value of petal_width\n",
    "import pandas as pd\n",
    "df = pd.read_csv('https://raw.githubusercontent.com/mwaskom/seaborn-data/master/iris.csv')\n",
    "df.head(10) #prints the first 10 rows\n",
    "\n",
    "# (a) Determine the shape of the dataframe\n",
    "print (\"(a) Shape: \", df.shape)\n",
    "\n",
    "# (b) Print out all the columns of the dataframe\n",
    "print (\"(b) Columns: \",df.columns.values)\n",
    "\n",
    "# (c) Print the 3rd element of the dataframe\n",
    "## 3rd column\n",
    "## both of .iloc and .loc can take a single element from the dataframe\n",
    "third_column_1 = df.iloc[:, 2] #by locations\n",
    "third_column_2 = df.loc[:, 'petal_length'] #by labels\n",
    "\n",
    "print (\"(c) 3rd element (first 5 rows only): \",'\\n', third_column_2.head())\n",
    "\n",
    "# (d) Find the average of 'petal_width' where species is 'virginica'\n",
    "## use groupby to calculate the mean values for each type of iris\n",
    "## take out the target output by filtering the row and column name\n",
    "\n",
    "print (\"(d) Average of petal width for virginica iris: %.4f\" \n",
    "       % df.groupby('species').mean().loc['virginica','petal_width']) \n",
    "\n",
    "# (e) Find the maximum of 'sepal_width' where species is 'setosa'\n",
    "## the thinking process is same with part (d)\n",
    "\n",
    "print (\"(e) Maximum of sepal width for setosa iris: %.2f\" \n",
    "       % df.groupby('species').max().loc['setosa','sepal_width']) \n",
    "\n",
    "# (f): What is the average value of sepal_length\n",
    "## a single column can be called by name directly\n",
    "\n",
    "print (\"(f) Average value of sepal length: %.4f\" \n",
    "       % df['sepal_length'].mean()) \n",
    "\n",
    "# (g): What is the maximum value of sepal_width\n",
    "## same thinking process as (f), but .loc can do the same thing\n",
    "\n",
    "print (\"(g) Maximum value of sepal width: %.4f\" \n",
    "       % df.loc[:, 'sepal_width'].max()) \n",
    "\n",
    "# (h): What is the minimum value of petal_width\n",
    "## same thinking process as (f) and (g), but accomplished by .iloc\n",
    "\n",
    "print (\"(g) Minimum value of petal width: %.4f\" \n",
    "       % df.iloc[:, 3].min()) \n",
    "\n",
    "\n"
   ]
  },
  {
   "cell_type": "code",
   "execution_count": 123,
   "metadata": {},
   "outputs": [
    {
     "data": {
      "text/html": [
       "<div>\n",
       "<style scoped>\n",
       "    .dataframe tbody tr th:only-of-type {\n",
       "        vertical-align: middle;\n",
       "    }\n",
       "\n",
       "    .dataframe tbody tr th {\n",
       "        vertical-align: top;\n",
       "    }\n",
       "\n",
       "    .dataframe thead th {\n",
       "        text-align: right;\n",
       "    }\n",
       "</style>\n",
       "<table border=\"1\" class=\"dataframe\">\n",
       "  <thead>\n",
       "    <tr style=\"text-align: right;\">\n",
       "      <th></th>\n",
       "      <th>sepal_length</th>\n",
       "      <th>sepal_width</th>\n",
       "      <th>petal_length</th>\n",
       "      <th>petal_width</th>\n",
       "      <th>species</th>\n",
       "    </tr>\n",
       "  </thead>\n",
       "  <tbody>\n",
       "    <tr>\n",
       "      <th>0</th>\n",
       "      <td>5.1</td>\n",
       "      <td>3.5</td>\n",
       "      <td>1.4</td>\n",
       "      <td>0.2</td>\n",
       "      <td>setosa</td>\n",
       "    </tr>\n",
       "    <tr>\n",
       "      <th>1</th>\n",
       "      <td>4.9</td>\n",
       "      <td>3.0</td>\n",
       "      <td>1.4</td>\n",
       "      <td>0.2</td>\n",
       "      <td>setosa</td>\n",
       "    </tr>\n",
       "    <tr>\n",
       "      <th>2</th>\n",
       "      <td>4.7</td>\n",
       "      <td>3.2</td>\n",
       "      <td>1.3</td>\n",
       "      <td>0.2</td>\n",
       "      <td>setosa</td>\n",
       "    </tr>\n",
       "    <tr>\n",
       "      <th>3</th>\n",
       "      <td>4.6</td>\n",
       "      <td>3.1</td>\n",
       "      <td>1.5</td>\n",
       "      <td>0.2</td>\n",
       "      <td>setosa</td>\n",
       "    </tr>\n",
       "    <tr>\n",
       "      <th>4</th>\n",
       "      <td>5.0</td>\n",
       "      <td>3.6</td>\n",
       "      <td>1.4</td>\n",
       "      <td>0.2</td>\n",
       "      <td>setosa</td>\n",
       "    </tr>\n",
       "    <tr>\n",
       "      <th>5</th>\n",
       "      <td>5.4</td>\n",
       "      <td>3.9</td>\n",
       "      <td>1.7</td>\n",
       "      <td>0.4</td>\n",
       "      <td>setosa</td>\n",
       "    </tr>\n",
       "    <tr>\n",
       "      <th>6</th>\n",
       "      <td>4.6</td>\n",
       "      <td>3.4</td>\n",
       "      <td>1.4</td>\n",
       "      <td>0.3</td>\n",
       "      <td>setosa</td>\n",
       "    </tr>\n",
       "    <tr>\n",
       "      <th>7</th>\n",
       "      <td>5.0</td>\n",
       "      <td>3.4</td>\n",
       "      <td>1.5</td>\n",
       "      <td>0.2</td>\n",
       "      <td>setosa</td>\n",
       "    </tr>\n",
       "    <tr>\n",
       "      <th>8</th>\n",
       "      <td>4.4</td>\n",
       "      <td>2.9</td>\n",
       "      <td>1.4</td>\n",
       "      <td>0.2</td>\n",
       "      <td>setosa</td>\n",
       "    </tr>\n",
       "    <tr>\n",
       "      <th>9</th>\n",
       "      <td>4.9</td>\n",
       "      <td>3.1</td>\n",
       "      <td>1.5</td>\n",
       "      <td>0.1</td>\n",
       "      <td>setosa</td>\n",
       "    </tr>\n",
       "  </tbody>\n",
       "</table>\n",
       "</div>"
      ],
      "text/plain": [
       "   sepal_length  sepal_width  petal_length  petal_width species\n",
       "0           5.1          3.5           1.4          0.2  setosa\n",
       "1           4.9          3.0           1.4          0.2  setosa\n",
       "2           4.7          3.2           1.3          0.2  setosa\n",
       "3           4.6          3.1           1.5          0.2  setosa\n",
       "4           5.0          3.6           1.4          0.2  setosa\n",
       "5           5.4          3.9           1.7          0.4  setosa\n",
       "6           4.6          3.4           1.4          0.3  setosa\n",
       "7           5.0          3.4           1.5          0.2  setosa\n",
       "8           4.4          2.9           1.4          0.2  setosa\n",
       "9           4.9          3.1           1.5          0.1  setosa"
      ]
     },
     "execution_count": 123,
     "metadata": {},
     "output_type": "execute_result"
    }
   ],
   "source": [
    "df.head(10) #the famous iris dataset"
   ]
  },
  {
   "cell_type": "markdown",
   "metadata": {
    "collapsed": true
   },
   "source": [
    "### GRADED: Getting started on the capstone project\n",
    "We will start working on our capstone project this week. For this week, the task consists of\n",
    "Finding a dataset of interest.\n",
    "    -You can use the links in the supplementary materials to help you find the dataset\n",
    "    -This dataset should be publicly accessible and available for download\n",
    "    -Should be of interest to the class\n",
    "    -The goal is to be askign and answering important questions about the data\n",
    "You can start with the following datasets or find your own\n",
    "### Open datasets\n",
    "          \n",
    "* Resources for open data\n",
    "  * https://data.boston.gov/\n",
    "  * https://www.data.gov/\n",
    "  * https://www.bls.gov/data/\n",
    "  * http://www.fao.org/statistics/databases/en/\n",
    "  * http://ec.europa.eu/eurostat/web/main\n",
    "  * https://github.com/awesomedata/awesome-public-datasets\n",
    "  * https://www.kdnuggets.com/2016/05/top-10-datasets-github.html\n",
    "  * https://www.quora.com/Where-can-I-find-large-datasets-open-to-the-public\n",
    "    \n",
    "### Questions\n",
    "\n",
    "* Q: Shortlist three datasets of interest\n",
    "* Q: For each dataset suggest describe the data (a few sentences) and questions that can be answered using that data (a few sentences)\n"
   ]
  },
  {
   "cell_type": "markdown",
   "metadata": {
    "collapsed": true
   },
   "source": [
    "<strong> interested datasets description and target questions"
   ]
  },
  {
   "cell_type": "markdown",
   "metadata": {},
   "source": [
    "(1) House Prices dataset <br>\n",
    "Description: <br> The dataset contains 79 explanatory variables that used to describe residential properties from multiple aspects. <br>\n",
    "Goal: <br>Identify the significant features, then predict the final price of each property. <br>\n",
    "\n",
    "The biggest challenge I can see for now, is how to select the key features to increase the accuracy rate.\n"
   ]
  },
  {
   "cell_type": "markdown",
   "metadata": {},
   "source": [
    "(2) College Scorecard dataset <br>\n",
    "Description: <br> The dataset described the under-graduate students' completion, debt, repayment, earnings status from 1996 to 2017. <br>\n",
    "Goal: <br>\n",
    "* predict the student's earning level. \n",
    "* identify the relationship between loan performance and student earning level for each school (Does higher earning means better loan performance? Any suprise?)\n",
    "* identify the relationship between financial aid and college completion rate. (Will the financial aid really helps the student to finish the shool?) <p>\n",
    "\n",
    "Due to the size of dataset, the key issue may be the data exploration and data cleaning processes."
   ]
  },
  {
   "cell_type": "markdown",
   "metadata": {},
   "source": [
    "(3) Million Song Dataset <br>\n",
    "Description: <br> It is the official song tag and song similarity datateset which partnered with Last.fm. The dataset contains more than 900,000 tracks with multiply types of lyrics, and the simular songs. <br>\n",
    "Goal: <br> Classify the type of lyrics. <p>\n",
    "The key problem will be how to dealing with the multi-tags songs during classification."
   ]
  },
  {
   "cell_type": "code",
   "execution_count": null,
   "metadata": {},
   "outputs": [],
   "source": []
  }
 ],
 "metadata": {
  "kernelspec": {
   "display_name": "Python 3",
   "language": "python",
   "name": "python3"
  },
  "language_info": {
   "codemirror_mode": {
    "name": "ipython",
    "version": 3
   },
   "file_extension": ".py",
   "mimetype": "text/x-python",
   "name": "python",
   "nbconvert_exporter": "python",
   "pygments_lexer": "ipython3",
   "version": "3.6.4"
  }
 },
 "nbformat": 4,
 "nbformat_minor": 2
}
