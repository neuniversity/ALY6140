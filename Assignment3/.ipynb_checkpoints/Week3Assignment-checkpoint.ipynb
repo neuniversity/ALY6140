{
 "cells": [
  {
   "cell_type": "markdown",
   "metadata": {},
   "source": [
    "# Assignment\n",
    "* Download the \"Assignment.ipynb\" notebook \n",
    "* Fill in the code in the cells marked with #GRADED#\n",
    "* Code cells outside of #GRADED# will not be considered for grading. \n",
    "  * Feel free to write outside of it for debugging\n",
    "* Submit the updated notebook\n",
    "  * Make sure to save your changes before submitting it"
   ]
  },
  {
   "cell_type": "code",
   "execution_count": 3,
   "metadata": {
    "collapsed": true
   },
   "outputs": [],
   "source": [
    "#Import necessary libraries\n",
    "import pandas as pd\n",
    "import numpy as np"
   ]
  },
  {
   "cell_type": "code",
   "execution_count": 7,
   "metadata": {},
   "outputs": [
    {
     "data": {
      "text/plain": [
       "array([[ 30,  80, 130],\n",
       "       [ 80, 255, 430],\n",
       "       [130, 430, 730]])"
      ]
     },
     "execution_count": 7,
     "metadata": {},
     "output_type": "execute_result"
    }
   ],
   "source": [
    "### GRADED\n",
    "\n",
    "arr = np.arange(15).reshape(3, 5)\n",
    "\n",
    "\n",
    "# (a) Determine the shape, number of dimensions and type of \n",
    "# elements in the numpy array arr\n",
    "\n",
    "type(arr)\n",
    "arr.shape\n",
    "arr.dtype\n",
    "\n",
    "# (b) Determine the sum of elements in arr\n",
    "\n",
    "sums = np.sum(arr)\n",
    "sums\n",
    "\n",
    "# (c) Determine the mean of elements in arr\n",
    "\n",
    "mean = np.mean(arr)\n",
    "mean\n",
    "\n",
    "# (d) Create an array of the same shape as arr but filled with zeros\n",
    "\n",
    "arr = np.zeros((3, 5))\n",
    "arr\n",
    "\n",
    "# (e) Create an array of the same shape as arr but filled with ones\n",
    "\n",
    "arr = np.ones((3, 5))\n",
    "arr\n",
    "\n",
    "# (f) Create an array of the same shape as arr but where all elements are squared values\n",
    "\n",
    "arr = np.square(arr)\n",
    "\n",
    "# (g) Create an array result of shape 3*3 resulting from multiplication of arr with transpose(arr). Hint: use np.dot\n",
    "arr = np.arange(15).reshape(3, 5)\n",
    "arr_t = arr.transpose()\n",
    "np.dot(arr,arr_t).reshape((3,3))\n",
    "\n"
   ]
  },
  {
   "cell_type": "code",
   "execution_count": 88,
   "metadata": {},
   "outputs": [
    {
     "data": {
      "text/plain": [
       "0.1"
      ]
     },
     "execution_count": 88,
     "metadata": {},
     "output_type": "execute_result"
    }
   ],
   "source": [
    "### GRADED\n",
    "# The following piece of code creates a DataFrame\n",
    "\n",
    "import pandas as pd\n",
    "df = pd.read_csv('https://raw.githubusercontent.com/mwaskom/seaborn-data/master/iris.csv')\n",
    "df.head(10) #prints the first 10 rows\n",
    "\n",
    "# (a) Determine the shape of the dataframe\n",
    "\n",
    "df.shape\n",
    "\n",
    "# (b) Print out all the columns of the dataframe\n",
    "\n",
    "print(df.columns)\n",
    "\n",
    "# (c) Print the 3rd element of the dataframe\n",
    "\n",
    "print(df.iloc[:,2])\n",
    "\n",
    "# (d) Find the average of 'petal_width' where species is 'virginica'\n",
    "vir = df.loc[df['species'] == 'virginica', ['petal_width']]\n",
    "vir.mean()\n",
    "\n",
    "# (e) Find the maximum of 'sepal_width' where species is 'setosa'\n",
    "setosa = df.loc[df['species'] == 'setosa', ['sepal_width']]\n",
    "setosa.max()\n",
    "\n",
    "# (f): What is the average value of sepal_length\n",
    "df['sepal_length'].mean()\n",
    "\n",
    "# (g): What is the maximum value of sepal_width\n",
    "df['sepal_width'].max()\n",
    "\n",
    "# (h): What is the minimum value of petal_width\n",
    "df['petal_width'].min()\n"
   ]
  },
  {
   "cell_type": "markdown",
   "metadata": {},
   "source": [
    "### GRADED: Getting started on the capstone project\n",
    "We will start working on our capstone project this week. For this week, the task consists of\n",
    "Finding a dataset of interest.\n",
    "    -You can use the links in the supplementary materials to help you find the dataset\n",
    "    -This dataset should be publicly accessible and available for download\n",
    "    -Should be of interest to the class\n",
    "    -The goal is to be askign and answering important questions about the data\n",
    "You can start with the following datasets or find your own\n",
    "### Open datasets\n",
    "          \n",
    "* Resources for open data\n",
    "  * https://data.boston.gov/\n",
    "  * https://www.data.gov/\n",
    "  * https://www.bls.gov/data/\n",
    "  * http://www.fao.org/statistics/databases/en/\n",
    "  * http://ec.europa.eu/eurostat/web/main\n",
    "  * https://github.com/awesomedata/awesome-public-datasets\n",
    "  * https://www.kdnuggets.com/2016/05/top-10-datasets-github.html\n",
    "  * https://www.quora.com/Where-can-I-find-large-datasets-open-to-the-public\n",
    "    \n",
    "### Questions\n",
    "\n",
    "* Q: Shortlist three datasets of interest\n",
    "* Q: For each dataset suggest describe the data (a few sentences) and questions that can be answered using that data (a few sentences)\n",
    "\n"
   ]
  },
  {
   "cell_type": "markdown",
   "metadata": {},
   "source": [
    "#### * Q: Shortlist three datasets of interest"
   ]
  },
  {
   "cell_type": "markdown",
   "metadata": {},
   "source": [
    "1. Food Price Outlook  http://www.ers.usda.gov/data-products/food-price-outlook/summary-findings.aspx\n",
    "2. National Student Loan Data System   https://catalog.data.gov/dataset/national-student-loan-data-system\n",
    "3. NCHS - Leading Causes of Death: United States  https://catalog.data.gov/dataset/age-adjusted-death-rates-for-the-top-10-leading-causes-of-death-united-states-2013"
   ]
  },
  {
   "cell_type": "markdown",
   "metadata": {},
   "source": [
    "#### * Q: For each dataset suggest describe the data (a few sentences) and questions that can be answered using that data (a few sentences)"
   ]
  },
  {
   "cell_type": "markdown",
   "metadata": {},
   "source": [
    "Food Price Outlook: This dataset shows The Consumer Price Index (CPI) for food belongs to consumer and producer. I plan to show the trend of the change from 1974-2016, and of different type of food, by building the time series, decomposing the data and finding the trend. "
   ]
  },
  {
   "cell_type": "markdown",
   "metadata": {},
   "source": [
    "National Student Loan Data System: In this dataset, the excel shows the location of those students. Therefore, I planned to draw the loan situation in different states, like which state has more students. Further more, I can draw a map if possible to show the situation in the U.S. "
   ]
  },
  {
   "cell_type": "markdown",
   "metadata": {},
   "source": [
    "NCHS - Leading Causes of Death: United States. I'm really interested in this dataset, which shows more details about the reason of deaths, the number of people dead of it in different states and different year, the average age of the death. There is so many things to do with this dataset. I could find the higher level cause in different year and different state, the trend of a specific cause in the past several years, the total trend of death in different states in the past, the age distribution for different cause, etc. "
   ]
  }
 ],
 "metadata": {
  "kernelspec": {
   "display_name": "Python 3",
   "language": "python",
   "name": "python3"
  },
  "language_info": {
   "codemirror_mode": {
    "name": "ipython",
    "version": 3
   },
   "file_extension": ".py",
   "mimetype": "text/x-python",
   "name": "python",
   "nbconvert_exporter": "python",
   "pygments_lexer": "ipython3",
   "version": "3.7.0"
  }
 },
 "nbformat": 4,
 "nbformat_minor": 2
}
