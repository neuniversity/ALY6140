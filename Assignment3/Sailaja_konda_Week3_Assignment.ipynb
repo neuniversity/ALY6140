{
 "cells": [
  {
   "cell_type": "markdown",
   "metadata": {},
   "source": [
    "# Assignment\n",
    "* Download the \"Assignment.ipynb\" notebook \n",
    "* Fill in the code in the cells marked with #GRADED#\n",
    "* Code cells outside of #GRADED# will not be considered for grading. \n",
    "  * Feel free to write outside of it for debugging\n",
    "* Submit the updated notebook\n",
    "  * Make sure to save your changes before submitting it"
   ]
  },
  {
   "cell_type": "code",
   "execution_count": 5,
   "metadata": {},
   "outputs": [],
   "source": [
    "#Import necessary libraries\n",
    "import pandas as pd\n",
    "import numpy as np"
   ]
  },
  {
   "cell_type": "code",
   "execution_count": 6,
   "metadata": {},
   "outputs": [],
   "source": [
    "#x = [1, 2, 3.6]\n",
    "#dx = [ 2 * x for x in x]\n",
    "\n",
    "\n",
    "#a=np.array(x)\n",
    "#b=2*a\n",
    "#print(b.dtype)\n",
    "#b\n"
   ]
  },
  {
   "cell_type": "code",
   "execution_count": 3,
   "metadata": {},
   "outputs": [
    {
     "name": "stdout",
     "output_type": "stream",
     "text": [
      "The array is \n",
      " [[ 0  1  2  3  4]\n",
      " [ 5  6  7  8  9]\n",
      " [10 11 12 13 14]]\n",
      "The type of the array 'arr' is :  <class 'numpy.ndarray'>\n",
      "The type of the elements in array 'arr' is : int32\n",
      "The dimensions of the array 'arr' is : 2\n",
      "The shape of the array 'arr' is : (3, 5)\n",
      "The size of the array 'arr' is : 15\n",
      "The sum of the elements in 'arr' is : 105\n",
      "The mean of the elements in 'arr' is : 7.0\n",
      "The array with zeros \n",
      " [[0 0 0 0 0]\n",
      " [0 0 0 0 0]\n",
      " [0 0 0 0 0]]\n",
      "The array with ones \n",
      " [[1 1 1 1 1]\n",
      " [1 1 1 1 1]\n",
      " [1 1 1 1 1]]\n",
      "The square of all elements in array \n",
      " [[  0   1   4   9  16]\n",
      " [ 25  36  49  64  81]\n",
      " [100 121 144 169 196]]\n",
      "The transpose of an array 'arr' is \n",
      " [[ 0  5 10]\n",
      " [ 1  6 11]\n",
      " [ 2  7 12]\n",
      " [ 3  8 13]\n",
      " [ 4  9 14]]\n",
      "The result of multiplication of array arr with its transpose is \n",
      " [[ 30  80 130]\n",
      " [ 80 255 430]\n",
      " [130 430 730]]\n"
     ]
    }
   ],
   "source": [
    "### GRADED\n",
    "# Creating a Numpy array \n",
    "arr = np.arange(15).reshape(3, 5)\n",
    "print(\"The array is \\n\", arr)\n",
    "# (a) Determine the shape, number of dimensions and type of \n",
    "# elements in the numpy array arr\n",
    "print(\"The type of the array 'arr' is : \", type(arr)) \n",
    "print(\"The type of the elements in array 'arr' is :\", arr.dtype) # The elements all are of same data type\n",
    "print(\"The dimensions of the array 'arr' is :\", arr.ndim)\n",
    "print(\"The shape of the array 'arr' is :\", arr.shape)\n",
    "print(\"The size of the array 'arr' is :\", arr.size)\n",
    "\n",
    "# (b) Determine the sum of elements in arr\n",
    "print(\"The sum of the elements in 'arr' is :\", arr.sum())\n",
    "\n",
    "# (c) Determine the mean of elements in arr\n",
    "print(\"The mean of the elements in 'arr' is :\", arr.mean())\n",
    "\n",
    "# (d) Create an array of the same shape as arr but filled with zeros\n",
    "arr_zero = np.zeros_like(arr)\n",
    "print(\"The array with zeros \\n\",arr_zero)\n",
    "\n",
    "# (e) Create an array of the same shape as arr but filled with ones\n",
    "arr_ones = np.ones_like(arr)\n",
    "print(\"The array with ones \\n\",arr_ones)\n",
    "\n",
    "# (f) Create an array of the same shape as arr but where all elements are squared values\n",
    "arr_square= np.square(arr)\n",
    "print(\"The square of all elements in array \\n\",arr_square)\n",
    "\n",
    "# (g) Create an array result of shape 3*3 resulting from multiplication of arr with transpose(arr). Hint: use np.dot \n",
    "arr_t=arr.T\n",
    "print(\"The transpose of an array 'arr' is \\n\",arr_t)\n",
    "arr_mul= np.dot(arr,arr_t)\n",
    "print(\"The result of multiplication of array arr with its transpose is \\n\", arr_mul)\n"
   ]
  },
  {
   "cell_type": "code",
   "execution_count": 4,
   "metadata": {},
   "outputs": [
    {
     "name": "stdout",
     "output_type": "stream",
     "text": [
      "   sepal_length  sepal_width  petal_length  petal_width species\n",
      "0           5.1          3.5           1.4          0.2  setosa\n",
      "1           4.9          3.0           1.4          0.2  setosa\n",
      "2           4.7          3.2           1.3          0.2  setosa\n",
      "3           4.6          3.1           1.5          0.2  setosa\n",
      "4           5.0          3.6           1.4          0.2  setosa\n",
      "5           5.4          3.9           1.7          0.4  setosa\n",
      "6           4.6          3.4           1.4          0.3  setosa\n",
      "7           5.0          3.4           1.5          0.2  setosa\n",
      "8           4.4          2.9           1.4          0.2  setosa\n",
      "9           4.9          3.1           1.5          0.1  setosa\n",
      "The shape of the data frame: (150, 5)\n",
      "columns of data frame:\n",
      " Index(['sepal_length', 'sepal_width', 'petal_length', 'petal_width',\n",
      "       'species'],\n",
      "      dtype='object')\n",
      "The 3rd element of data frame \n",
      " sepal_length       4.6\n",
      "sepal_width        3.1\n",
      "petal_length       1.5\n",
      "petal_width        0.2\n",
      "species         setosa\n",
      "Name: 3, dtype: object\n",
      "The average of petal_width for virginica 2.0260000000000002\n",
      "The maximum value of sepal_width for setosa 4.4\n",
      "Average value of sepal_length: 5.843333333333334\n",
      "Maximum value of sepal_width: 4.4\n",
      "minimum value of petal_width: 0.1\n"
     ]
    }
   ],
   "source": [
    "### GRADED\n",
    "# The following piece of code creates a DataFrame \n",
    "\n",
    "df = pd.read_csv('https://raw.githubusercontent.com/mwaskom/seaborn-data/master/iris.csv')\n",
    "print(df.head(10)) #prints the first 10 rows\n",
    "\n",
    "# (a) Determine the shape of the dataframe\n",
    "print(\"The shape of the data frame:\", df.shape)\n",
    "\n",
    "# (b) Print out all the columns of the dataframe\n",
    "print(\"columns of data frame:\\n\", df.columns)\n",
    "\n",
    "# (c) Print the 3rd element of the dataframe\n",
    "print(\"The 3rd element of data frame \\n\",df.iloc[3])\n",
    "\n",
    "# (d) Find the average of 'petal_width' where species is 'virginica'\n",
    "v=df['petal_width'][df['species']=='virginica'].mean()\n",
    "print(\"The average of petal_width for virginica {}\".format(v))\n",
    "#grouped=df.groupby('species')\n",
    "#print(grouped['petal_width'].mean())\n",
    "\n",
    "# (e) Find the maximum of 'sepal_width' where species is 'setosa'\n",
    "s=df['sepal_width'][df['species']=='setosa'].max()\n",
    "print(\"The maximum value of sepal_width for setosa {}\".format(s))\n",
    "\n",
    "# (f): What is the average value of sepal_length\n",
    "print(\"Average value of sepal_length: {}\".format(df['sepal_length'].mean()))\n",
    "\n",
    "# (g): What is the maximum value of sepal_width\n",
    "print(\"Maximum value of sepal_width: {}\".format(df['sepal_width'].max()))\n",
    "\n",
    "# (h): What is the minimum value of petal_width\n",
    "print(\"minimum value of petal_width: {}\".format(df['petal_width'].min()))\n",
    "\n",
    "\n",
    "\n"
   ]
  },
  {
   "cell_type": "markdown",
   "metadata": {
    "collapsed": true
   },
   "source": [
    "### GRADED: Getting started on the capstone project\n",
    "We will start working on our capstone project this week. For this week, the task consists of\n",
    "Finding a dataset of interest.\n",
    "    -You can use the links in the supplementary materials to help you find the dataset\n",
    "    -This dataset should be publicly accessible and available for download\n",
    "    -Should be of interest to the class\n",
    "    -The goal is to be askign and answering important questions about the data\n",
    "You can start with the following datasets or find your own\n",
    "### Open datasets\n",
    "          \n",
    "* Resources for open data\n",
    "  * https://data.boston.gov/\n",
    "  * https://www.data.gov/\n",
    "  * https://www.bls.gov/data/\n",
    "  * http://www.fao.org/statistics/databases/en/\n",
    "  * http://ec.europa.eu/eurostat/web/main\n",
    "  * https://github.com/awesomedata/awesome-public-datasets\n",
    "  * https://www.kdnuggets.com/2016/05/top-10-datasets-github.html\n",
    "  * https://www.quora.com/Where-can-I-find-large-datasets-open-to-the-public\n",
    "    \n",
    "### Questions\n",
    "\n",
    "* Q: Shortlist three datasets of interest\n",
    "* Q: For each dataset suggest describe the data (a few sentences) and questions that can be answered using that data (a few sentences)\n"
   ]
  },
  {
   "cell_type": "markdown",
   "metadata": {
    "collapsed": true
   },
   "source": [
    "Three data sets \n",
    "- Employee Earnings Report from Analyze Boston (https://data.boston.gov/dataset/employee-earnings-report)\n",
    "- Crime Incident Reports from Analyze (2015 to-date) Boston (https://data.boston.gov/dataset/crime-incident-reports-august-2015-to-date-source-new-system\n",
    "- Economic Indicators from Analyse Boston (https://data.boston.gov/dataset/crime-incident-reports-august-2015-to-date-source-new-system"
   ]
  },
  {
   "cell_type": "markdown",
   "metadata": {},
   "source": [
    "Description of 3 Data Sets\n",
    "\n",
    "- Employee Earnings Report is about salary details of employees in Boston. This data set consists of employee names, salary details and total compensation details of the employees from 2011 to 2017. The data present in 2017 data set differs from remaining years. Using this data set we can differentiate the employees based on their salary, educational profile.Then it is easy to find The highest paid and lowest paid employees. The salaries for employees based on the areas (postal column in the data set) are separated to know in which area the employees were paid more and in which areas they were paid less. \n",
    "\n",
    "\n",
    "- Crime Incident Report consists of data related to crimes that took place in Boston from 2015 to-date. It also consists of the type of the incident and the place of the crime happened. With this data the total crimes took place in a particular year in a particular region can be calculated. The distribution can be obtained for the crime count in a particular year.\n",
    "\n",
    "\n",
    "- Economic Indicators data set consists of variety of economic data related to employment, housing, travel and real estate development. It contains total jobs and unemployment rate related to employment, housing sales and housing price related to housing, flight available and passengers related to travel. Each and every column in this data set is comparable with another related column and we can draw correlations. The analysis of economic performance and future predictionas are possible with this data set.\n"
   ]
  },
  {
   "cell_type": "code",
   "execution_count": null,
   "metadata": {},
   "outputs": [],
   "source": []
  },
  {
   "cell_type": "code",
   "execution_count": null,
   "metadata": {},
   "outputs": [],
   "source": []
  }
 ],
 "metadata": {
  "kernelspec": {
   "display_name": "py37",
   "language": "python",
   "name": "py37"
  },
  "language_info": {
   "codemirror_mode": {
    "name": "ipython",
    "version": 3
   },
   "file_extension": ".py",
   "mimetype": "text/x-python",
   "name": "python",
   "nbconvert_exporter": "python",
   "pygments_lexer": "ipython3",
   "version": "3.7.1"
  }
 },
 "nbformat": 4,
 "nbformat_minor": 2
}
