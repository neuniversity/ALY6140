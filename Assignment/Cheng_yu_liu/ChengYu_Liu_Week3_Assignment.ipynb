{
 "cells": [
  {
   "cell_type": "markdown",
   "metadata": {},
   "source": [
    "# Assignment\n",
    "* Download the \"Assignment.ipynb\" notebook \n",
    "* Fill in the code in the cells marked with #GRADED#\n",
    "* Code cells outside of #GRADED# will not be considered for grading. \n",
    "  * Feel free to write outside of it for debugging\n",
    "* Submit the updated notebook\n",
    "  * Make sure to save your changes before submitting it"
   ]
  },
  {
   "cell_type": "code",
   "execution_count": 12,
   "metadata": {},
   "outputs": [],
   "source": [
    "#Import necessary libraries\n",
    "import pandas as pd\n",
    "import numpy as np"
   ]
  },
  {
   "cell_type": "code",
   "execution_count": 14,
   "metadata": {},
   "outputs": [
    {
     "name": "stdout",
     "output_type": "stream",
     "text": [
      "The shape is (3, 5), it is 2 dimensions and the type is <class 'numpy.ndarray'>\n",
      "\n",
      "\n",
      "The sum of elements in arr is 105\n",
      "\n",
      "\n",
      "The mean of elements in arr is 7.0\n",
      "\n",
      "\n",
      "An array of the same shape as arr but filled with zeros\n",
      "[[0 0 0 0 0]\n",
      " [0 0 0 0 0]\n",
      " [0 0 0 0 0]]\n",
      "\n",
      "\n",
      "An array of the same shape as arr but filled with ones\n",
      "[[1 1 1 1 1]\n",
      " [1 1 1 1 1]\n",
      " [1 1 1 1 1]]\n",
      "\n",
      "\n",
      "An array of the same shape as arr but where all elements are squared values\n",
      "[[  0   1   4   9  16]\n",
      " [ 25  36  49  64  81]\n",
      " [100 121 144 169 196]]\n",
      "\n",
      "\n",
      "arr multiplied by transpose(arr)\n",
      "[[ 30  80 130]\n",
      " [ 80 255 430]\n",
      " [130 430 730]]\n"
     ]
    }
   ],
   "source": [
    "### GRADED\n",
    "# (a) Determine the shape, number of dimensions and type of \n",
    "# elements in the numpy array arr\n",
    "# (b) Determine the sum of elements in arr\n",
    "# (c) Determine the mean of elements in arr\n",
    "# (d) Create an array of the same shape as arr but filled with zeros\n",
    "# (e) Create an array of the same shape as arr but filled with ones\n",
    "# (f) Create an array of the same shape as arr but where all elements are squared values\n",
    "# (g) Create an array result of shape 3*3 resulting from multiplication of arr with transpose(arr). Hint: use np.dot\n",
    "arr = np.arange(15).reshape(3, 5) # example 1 of what arr could be\n",
    "\n",
    "# (a) Determine the shape, number of dimensions and type of\n",
    "print(\"The shape is {}, it is {} dimensions and the type is {}\".format(arr.shape, arr.ndim, type(arr)))\n",
    "\n",
    "# (b) Determine the sum of elements in arr\n",
    "print(\"\\n\")\n",
    "print(\"The sum of elements in arr is {}\".format(arr.sum()))\n",
    "\n",
    "# (c) Determine the mean of elements in arr\n",
    "print(\"\\n\")\n",
    "print(\"The mean of elements in arr is {}\".format(arr.mean()))\n",
    "\n",
    "# (d) Create an array of the same shape as arr but filled with zeros\n",
    "print(\"\\n\")\n",
    "print(\"An array of the same shape as arr but filled with zeros\")\n",
    "print(np.zeros_like(arr))\n",
    "\n",
    "# (e) Create an array of the same shape as arr but filled with ones\n",
    "print(\"\\n\")\n",
    "print(\"An array of the same shape as arr but filled with ones\")\n",
    "print(np.ones_like(arr))\n",
    "\n",
    "# (f) Create an array of the same shape as arr but where all elements are squared values\n",
    "print(\"\\n\")\n",
    "print(\"An array of the same shape as arr but where all elements are squared values\")\n",
    "print(np.square(arr))\n",
    "\n",
    "# (g) Create an array result of shape 3*3 resulting from multiplication of arr with transpose(arr). Hint: use np.dot\n",
    "print(\"\\n\")\n",
    "print(\"arr multiplied by transpose(arr)\")\n",
    "print(np.dot(arr,np.transpose(arr)))\n"
   ]
  },
  {
   "cell_type": "code",
   "execution_count": 16,
   "metadata": {
    "scrolled": true
   },
   "outputs": [
    {
     "name": "stdout",
     "output_type": "stream",
     "text": [
      "(a) The shape of the dataframe is (150, 5)\n",
      "\n",
      "\n",
      "(b) The columns of the dataframe are Index(['sepal_length', 'sepal_width', 'petal_length', 'petal_width',\n",
      "       'species'],\n",
      "      dtype='object')\n",
      "\n",
      "\n",
      "(c) The 3rd element of the dataframe is\n",
      "sepal_length       4.7\n",
      "sepal_width        3.2\n",
      "petal_length       1.3\n",
      "petal_width        0.2\n",
      "species         setosa\n",
      "Name: 2, dtype: object\n",
      "\n",
      "\n",
      "(d) The average of petal_width where species is virginica is 2.026\n",
      "\n",
      "\n",
      "(e) The maximum of sepal_width where species is setosa is 4.4\n",
      "\n",
      "\n",
      "(f) The average value of sepal_length is 5.8433\n",
      "\n",
      "\n",
      "(g) The average value of sepal_width is 4.4\n",
      "\n",
      "\n",
      "(h) The average value of petal_width is 0.1\n"
     ]
    }
   ],
   "source": [
    "### GRADED\n",
    "# The following piece of code creates a DataFrame \n",
    "# (a) Determine the shape of the dataframe\n",
    "# (b) Print out all the columns of the dataframe\n",
    "# (c) Print the 3rd element of the dataframe\n",
    "# (d) Find the average of 'petal_width' where species is 'virginica'\n",
    "# (e) Find the maximum of 'sepal_width' where species is 'setosa'\n",
    "# (f): What is the average value of sepal_length\n",
    "# (g): What is the maximum value of sepal_width\n",
    "# (h): What is the minimum value of petal_width\n",
    "import pandas as pd\n",
    "df = pd.read_csv('https://raw.githubusercontent.com/mwaskom/seaborn-data/master/iris.csv')\n",
    "df.head(10) #prints the first 10 rows\n",
    "\n",
    "# (a) Determine the shape of the dataframe\n",
    "print(\"(a) The shape of the dataframe is\", df.shape)\n",
    "\n",
    "# (b) Print out all the columns of the dataframe\n",
    "print(\"\\n\")\n",
    "print(\"(b) The columns of the dataframe are\", df.columns)\n",
    "\n",
    "# (c) Print the 3rd element of the dataframe\n",
    "print(\"\\n\")\n",
    "print(\"(c) The 3rd element of the dataframe is\")\n",
    "print(df.iloc[2])\n",
    "\n",
    "# (d) Find the average of 'petal_width' where species is 'virginica'\n",
    "print(\"\\n\")\n",
    "print(\"(d) The average of petal_width where species is virginica is\", \n",
    "      df[df[\"species\"] == 'virginica']['petal_width'].mean())\n",
    "\n",
    "# (e) Find the maximum of 'sepal_width' where species is 'setosa'\n",
    "print(\"\\n\")\n",
    "print(\"(e) The maximum of sepal_width where species is setosa is\", \n",
    "     df[df[\"species\"] == 'setosa']['sepal_width'].max())\n",
    "\n",
    "# (f): What is the average value of sepal_length\n",
    "print(\"\\n\")\n",
    "print(\"(f) The average value of sepal_length is\", round(df['sepal_length'].mean(),4))\n",
    "\n",
    "# (g): What is the maximum value of sepal_width\n",
    "print(\"\\n\")\n",
    "print(\"(g) The average value of sepal_width is\", round(df['sepal_width'].max(),4))\n",
    "\n",
    "# (h): What is the minimum value of petal_width\n",
    "print(\"\\n\")\n",
    "print(\"(h) The average value of petal_width is\", round(df[\"petal_width\"].min(),4))"
   ]
  },
  {
   "cell_type": "markdown",
   "metadata": {
    "collapsed": true
   },
   "source": [
    "### GRADED: Getting started on the capstone project\n",
    "We will start working on our capstone project this week. For this week, the task consists of\n",
    "Finding a dataset of interest.\n",
    "    -You can use the links in the supplementary materials to help you find the dataset\n",
    "    -This dataset should be publicly accessible and available for download\n",
    "    -Should be of interest to the class\n",
    "    -The goal is to be askign and answering important questions about the data\n",
    "You can start with the following datasets or find your own\n",
    "### Open datasets\n",
    "          \n",
    "* Resources for open data\n",
    "  * https://data.boston.gov/\n",
    "  * https://www.data.gov/\n",
    "  * https://www.bls.gov/data/\n",
    "  * http://www.fao.org/statistics/databases/en/\n",
    "  * http://ec.europa.eu/eurostat/web/main\n",
    "  * https://github.com/awesomedata/awesome-public-datasets\n",
    "  * https://www.kdnuggets.com/2016/05/top-10-datasets-github.html\n",
    "  * https://www.quora.com/Where-can-I-find-large-datasets-open-to-the-public\n",
    "    \n",
    "### Questions\n",
    "\n",
    "* Q: Shortlist three datasets of interest\n",
    "* Q: For each dataset suggest describe the data (a few sentences) and questions that can be answered using that data (a few sentences)\n"
   ]
  },
  {
   "cell_type": "markdown",
   "metadata": {
    "collapsed": true
   },
   "source": [
    "### Dataset 1\n",
    "\n",
    "#### Employee Earnings Report 2017-Boston\n",
    "\n",
    "#### Each year, the City of Boston publishes payroll data for employees. This dataset contains employee names, job details, and earnings information including base salary, overtime, and total compensation\n",
    "\n",
    "#### Questions that can be answered:\n",
    "\n",
    "*  Which department has the highest earning in Boston\n",
    "*  Which department has the highest base salary in Boston\n",
    "*  What is the department wise total earnings in Boston"
   ]
  },
  {
   "cell_type": "markdown",
   "metadata": {},
   "source": [
    "### Dataset 2\n",
    "\n",
    "#### California Housing Prices\n",
    "\n",
    "#### The data pertains to the houses found in a given California district and some summary stats about them based on the 1990 census data.\n",
    "\n",
    "#### Questions that can be answered:\n",
    "\n",
    "*  Predict the final price of each property\n",
    "*  Identify the significant features\n"
   ]
  },
  {
   "cell_type": "markdown",
   "metadata": {},
   "source": [
    "### Dataset 3\n",
    "\n",
    "#### Loan Data (I found 3 different data sets)\n",
    "\n",
    "#### 1. The data set includes customers who have paid off their loans, who have been past due and put into collection without paying back their loan and interests, and who have paid off only after they were put in collection. The financial product is a bullet loan that customers should pay off all of their loan debt in just one time by the end of the term, instead of an installment schedule. Of course, they could pay off earlier than their pay schedule.\n",
    "#### 2. A classification problem where we have to predict whether a loan would be approved or not.\n",
    "\n",
    "#### Questions that can be answered:\n",
    "\n",
    "*  The relationship between age and loan\n",
    "*  If an applicant can be approved to get the loan"
   ]
  },
  {
   "cell_type": "markdown",
   "metadata": {},
   "source": [
    "### Dataset 4\n",
    "\n",
    "#### Crime Data - Seattle \n",
    "\n",
    "#### This data represents crime reported to the Seattle Police Department (SPD). Each row contains the record of a unique event where at least one criminal offense was reported by a member of the community or detected by an officer in the field.\n",
    "\n",
    "#### Questions that can be answered:\n",
    "\n",
    "*  What neighborhood has the highest crime records\n",
    "*  Analyzing the crime frequency and comparing it each year.\n"
   ]
  },
  {
   "cell_type": "code",
   "execution_count": null,
   "metadata": {},
   "outputs": [],
   "source": []
  }
 ],
 "metadata": {
  "kernelspec": {
   "display_name": "Python 3",
   "language": "python",
   "name": "python3"
  },
  "language_info": {
   "codemirror_mode": {
    "name": "ipython",
    "version": 3
   },
   "file_extension": ".py",
   "mimetype": "text/x-python",
   "name": "python",
   "nbconvert_exporter": "python",
   "pygments_lexer": "ipython3",
   "version": "3.6.4"
  }
 },
 "nbformat": 4,
 "nbformat_minor": 2
}
