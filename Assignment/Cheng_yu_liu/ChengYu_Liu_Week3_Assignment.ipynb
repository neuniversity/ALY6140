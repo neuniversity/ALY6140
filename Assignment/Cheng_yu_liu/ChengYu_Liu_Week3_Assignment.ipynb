{
 "cells": [
  {
   "cell_type": "markdown",
   "metadata": {},
   "source": [
    "# Assignment\n",
    "* Download the \"Assignment.ipynb\" notebook \n",
    "* Fill in the code in the cells marked with #GRADED#\n",
    "* Code cells outside of #GRADED# will not be considered for grading. \n",
    "  * Feel free to write outside of it for debugging\n",
    "* Submit the updated notebook\n",
    "  * Make sure to save your changes before submitting it"
   ]
  },
  {
   "cell_type": "code",
   "execution_count": 2,
   "metadata": {},
   "outputs": [],
   "source": [
    "#Import necessary libraries\n",
    "import pandas as pd\n",
    "import numpy as np"
   ]
  },
  {
   "cell_type": "code",
   "execution_count": 52,
   "metadata": {},
   "outputs": [
    {
     "name": "stdout",
     "output_type": "stream",
     "text": [
      "The shape is (3, 5), it is 2 dimensions and the type is <class 'numpy.ndarray'>\n",
      "The sum of elements in arr is 105\n",
      "The mean of elements in arr is 7.0\n",
      "\n",
      "\n",
      "An array of the same shape as arr but filled with zeros\n",
      "[[0 0 0 0 0]\n",
      " [0 0 0 0 0]\n",
      " [0 0 0 0 0]]\n",
      "\n",
      "\n",
      "An array of the same shape as arr but filled with ones\n",
      "[[1 1 1 1 1]\n",
      " [1 1 1 1 1]\n",
      " [1 1 1 1 1]]\n",
      "\n",
      "\n",
      "An array of the same shape as arr but where all elements are squared values\n",
      "[[  0   1   4   9  16]\n",
      " [ 25  36  49  64  81]\n",
      " [100 121 144 169 196]]\n",
      "\n",
      "\n",
      "arr multiplied by transpose(arr)\n",
      "[[ 30  80 130]\n",
      " [ 80 255 430]\n",
      " [130 430 730]]\n"
     ]
    }
   ],
   "source": [
    "### GRADED\n",
    "# (a) Determine the shape, number of dimensions and type of \n",
    "# elements in the numpy array arr\n",
    "# (b) Determine the sum of elements in arr\n",
    "# (c) Determine the mean of elements in arr\n",
    "# (d) Create an array of the same shape as arr but filled with zeros\n",
    "# (e) Create an array of the same shape as arr but filled with ones\n",
    "# (f) Create an array of the same shape as arr but where all elements are squared values\n",
    "# (g) Create an array result of shape 3*3 resulting from multiplication of arr with transpose(arr). Hint: use np.dot\n",
    "arr = np.arange(15).reshape(3, 5) # example 1 of what arr could be\n",
    "arr = np.arange(100).reshape(10,10) # example #2 of what arr could be\n",
    "\n",
    "print(\"The shape is {}, it is {} dimensions and the type is {}\".format(arr.shape, arr.ndim, type(arr)))\n",
    "print(\"The sum of elements in arr is {}\".format(arr.sum()))\n",
    "print(\"The mean of elements in arr is {}\".format(arr.mean()))\n",
    "print(\"\\n\")\n",
    "print(\"An array of the same shape as arr but filled with zeros\")\n",
    "print(np.zeros_like(arr))\n",
    "print(\"\\n\")\n",
    "print(\"An array of the same shape as arr but filled with ones\")\n",
    "print(np.ones_like(arr))\n",
    "print(\"\\n\")\n",
    "print(\"An array of the same shape as arr but where all elements are squared values\")\n",
    "print(np.square(arr))\n",
    "print(\"\\n\")\n",
    "print(\"arr multiplied by transpose(arr)\")\n",
    "print(np.dot(arr,np.transpose(arr)))\n"
   ]
  },
  {
   "cell_type": "code",
   "execution_count": 54,
   "metadata": {
    "scrolled": true
   },
   "outputs": [
    {
     "name": "stdout",
     "output_type": "stream",
     "text": [
      "The shape of the dataframe is (150, 5)\n",
      "\n",
      "\n",
      "The columns of the dataframe are Index(['sepal_length', 'sepal_width', 'petal_length', 'petal_width',\n",
      "       'species'],\n",
      "      dtype='object')\n",
      "\n",
      "\n",
      "The 3rd element of the dataframe is sepal_length       4.7\n",
      "sepal_width        3.2\n",
      "petal_length       1.3\n",
      "petal_width        0.2\n",
      "species         setosa\n",
      "Name: 2, dtype: object\n",
      "\n",
      "\n",
      "The average of petal_width where species is virginica is 2.026\n",
      "\n",
      "\n",
      "The maximum of sepal_width where species is setosa is 4.4\n",
      "\n",
      "\n",
      "The average value of sepal_length is 5.843333333333335\n",
      "\n",
      "\n",
      "The average value of sepal_width is 4.4\n",
      "\n",
      "\n",
      "The average value of petal_width is 0.1\n"
     ]
    }
   ],
   "source": [
    "### GRADED\n",
    "# The following piece of code creates a DataFrame \n",
    "# (a) Determine the shape of the dataframe\n",
    "# (b) Print out all the columns of the dataframe\n",
    "# (c) Print the 3rd element of the dataframe\n",
    "# (d) Find the average of 'petal_width' where species is 'virginica'\n",
    "# (e) Find the maximum of 'sepal_width' where species is 'setosa'\n",
    "# (f): What is the average value of sepal_length\n",
    "# (g): What is the maximum value of sepal_width\n",
    "# (h): What is the minimum value of petal_width\n",
    "import pandas as pd\n",
    "df = pd.read_csv('https://raw.githubusercontent.com/mwaskom/seaborn-data/master/iris.csv')\n",
    "df.head(10) #prints the first 10 rows\n",
    "print(\"The shape of the dataframe is\", df.shape)\n",
    "print(\"\\n\")\n",
    "print(\"The columns of the dataframe are\", df.columns)\n",
    "print(\"\\n\")\n",
    "print(\"The 3rd element of the dataframe is\", df.iloc[2])\n",
    "print(\"\\n\")\n",
    "print(\"The average of petal_width where species is virginica is\", \n",
    "      df[df[\"species\"] == 'virginica']['petal_width'].mean())\n",
    "print(\"\\n\")\n",
    "print(\"The maximum of sepal_width where species is setosa is\", \n",
    "     df[df[\"species\"] == 'setosa']['sepal_width'].max())\n",
    "print(\"\\n\")\n",
    "print(\"The average value of sepal_length is\", df[\"sepal_length\"].mean())\n",
    "print(\"\\n\")\n",
    "print(\"The average value of sepal_width is\", df[\"sepal_width\"].max())\n",
    "print(\"\\n\")\n",
    "print(\"The average value of petal_width is\", df[\"petal_width\"].min())"
   ]
  },
  {
   "cell_type": "markdown",
   "metadata": {
    "collapsed": true
   },
   "source": [
    "### GRADED: Getting started on the capstone project\n",
    "We will start working on our capstone project this week. For this week, the task consists of\n",
    "Finding a dataset of interest.\n",
    "    -You can use the links in the supplementary materials to help you find the dataset\n",
    "    -This dataset should be publicly accessible and available for download\n",
    "    -Should be of interest to the class\n",
    "    -The goal is to be askign and answering important questions about the data\n",
    "You can start with the following datasets or find your own\n",
    "### Open datasets\n",
    "          \n",
    "* Resources for open data\n",
    "  * https://data.boston.gov/\n",
    "  * https://www.data.gov/\n",
    "  * https://www.bls.gov/data/\n",
    "  * http://www.fao.org/statistics/databases/en/\n",
    "  * http://ec.europa.eu/eurostat/web/main\n",
    "  * https://github.com/awesomedata/awesome-public-datasets\n",
    "  * https://www.kdnuggets.com/2016/05/top-10-datasets-github.html\n",
    "  * https://www.quora.com/Where-can-I-find-large-datasets-open-to-the-public\n",
    "    \n",
    "### Questions\n",
    "\n",
    "* Q: Shortlist three datasets of interest\n",
    "* Q: For each dataset suggest describe the data (a few sentences) and questions that can be answered using that data (a few sentences)\n"
   ]
  },
  {
   "cell_type": "code",
   "execution_count": null,
   "metadata": {
    "collapsed": true
   },
   "outputs": [],
   "source": []
  }
 ],
 "metadata": {
  "kernelspec": {
   "display_name": "Python 3",
   "language": "python",
   "name": "python3"
  },
  "language_info": {
   "codemirror_mode": {
    "name": "ipython",
    "version": 3
   },
   "file_extension": ".py",
   "mimetype": "text/x-python",
   "name": "python",
   "nbconvert_exporter": "python",
   "pygments_lexer": "ipython3",
   "version": "3.6.4"
  }
 },
 "nbformat": 4,
 "nbformat_minor": 2
}
